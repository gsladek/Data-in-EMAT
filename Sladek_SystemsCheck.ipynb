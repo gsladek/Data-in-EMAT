{
 "cells": [
  {
   "cell_type": "markdown",
   "id": "8bc184f7",
   "metadata": {},
   "source": [
    "# What I Hope To Get Out of This Class #"
   ]
  },
  {
   "cell_type": "markdown",
   "id": "fc75a3ef",
   "metadata": {},
   "source": [
    "---"
   ]
  },
  {
   "cell_type": "markdown",
   "id": "8ccd5bd9",
   "metadata": {},
   "source": [
    " ### 1. Learning *more* Python ###"
   ]
  },
  {
   "cell_type": "markdown",
   "id": "5fdfbdb8",
   "metadata": {},
   "source": [
    "![](https://squeaksandnibbles.com/wp-content/uploads/2021/01/Male-Ball-Python-Names.jpg)"
   ]
  },
  {
   "cell_type": "markdown",
   "id": "fcba0cd3",
   "metadata": {},
   "source": [
    "I just thought this snake was cute"
   ]
  },
  {
   "cell_type": "markdown",
   "id": "57f23c61",
   "metadata": {},
   "source": [
    "> I haven't done anything with python since the **Computational Thinking and programming**. So I am very rusty considering that was a year ago. \n",
    "\n",
    "> I have however worked on ***html*** and ***css*** since then so leaning markdown seemed pretty simple. I liked that the markdown instructions related it to HTML so that it was easy for me to pick up on and remember."
   ]
  },
  {
   "cell_type": "markdown",
   "id": "efa525c0",
   "metadata": {},
   "source": [
    "### 2. Challenge My knowledge in computational thinking ###"
   ]
  },
  {
   "cell_type": "markdown",
   "id": "52d189c9",
   "metadata": {},
   "source": [
    "- Refresh what Computational Thinking and Programming is\n",
    "- Be able to explain to others what Computational thinking it\n",
    "- Feel confident in my knowledge of syntax within conda"
   ]
  },
  {
   "cell_type": "code",
   "execution_count": 35,
   "id": "98224e74",
   "metadata": {},
   "outputs": [
    {
     "name": "stdout",
     "output_type": "stream",
     "text": [
      "redfruit\n",
      "greenfruit\n",
      "bluefruit\n",
      "meanfruit\n"
     ]
    }
   ],
   "source": [
    "a = [\"red\",\"green\",\"blue\",\"mean\"]\n",
    "for i in a:\n",
    "    b = i + str(\"fruit\") \n",
    "    print(b)\n",
    "    "
   ]
  },
  {
   "cell_type": "code",
   "execution_count": 23,
   "id": "989d8fab",
   "metadata": {},
   "outputs": [
    {
     "data": {
      "text/plain": [
       "'Evil Cow'"
      ]
     },
     "execution_count": 23,
     "metadata": {},
     "output_type": "execute_result"
    }
   ],
   "source": [
    "def bluecow(x):\n",
    "    return \"Evil\" + str(\" \") + str(x);\n",
    "\n",
    "bluecow(\"Cow\") "
   ]
  }
 ],
 "metadata": {
  "kernelspec": {
   "display_name": "Python 3 (ipykernel)",
   "language": "python",
   "name": "python3"
  },
  "language_info": {
   "codemirror_mode": {
    "name": "ipython",
    "version": 3
   },
   "file_extension": ".py",
   "mimetype": "text/x-python",
   "name": "python",
   "nbconvert_exporter": "python",
   "pygments_lexer": "ipython3",
   "version": "3.9.6"
  }
 },
 "nbformat": 4,
 "nbformat_minor": 5
}
