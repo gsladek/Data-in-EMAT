{
 "cells": [
  {
   "cell_type": "markdown",
   "id": "ec345bed",
   "metadata": {},
   "source": [
    "# Likes Report"
   ]
  },
  {
   "cell_type": "markdown",
   "id": "08c9b000",
   "metadata": {},
   "source": [
    "Gloria Sladek\n",
    "\n",
    "9/15/2021\n"
   ]
  },
  {
   "cell_type": "markdown",
   "id": "e3170f92",
   "metadata": {},
   "source": [
    "Using data downloaded from my instagram, I organized the number of likes by time stamp and presented the information in a data frame."
   ]
  },
  {
   "cell_type": "markdown",
   "id": "5708a9f9",
   "metadata": {},
   "source": [
    "The first thing I did was load in the packages I was going to use."
   ]
  },
  {
   "cell_type": "code",
   "execution_count": 67,
   "id": "c6ef43a0",
   "metadata": {},
   "outputs": [],
   "source": [
    "import pandas as pd\n",
    "import json"
   ]
  },
  {
   "cell_type": "markdown",
   "id": "315483d5",
   "metadata": {},
   "source": [
    "1. Next I used the __with__ and __open__ function to open the _liked_posts.json_ file located in the Instagram data folder on my PC. I used the __json.load__ function to load in the file, saving it in a variable I called _dat_. "
   ]
  },
  {
   "cell_type": "code",
   "execution_count": 68,
   "id": "3fc25ec9",
   "metadata": {},
   "outputs": [],
   "source": [
    "with open(r\"C:\\Users\\glori\\OneDrive\\Desktop\\Classes\\Data in EMAT\\Instagram Data\\likes\\liked_posts.json\") as j:\n",
    "    dat = json.load(j)"
   ]
  },
  {
   "cell_type": "markdown",
   "id": "a3b3572e",
   "metadata": {},
   "source": [
    "I used dot notation to find the keys in the dat file which gave me the output of 'likes_media_likes'"
   ]
  },
  {
   "cell_type": "code",
   "execution_count": 69,
   "id": "149e1611",
   "metadata": {},
   "outputs": [
    {
     "data": {
      "text/plain": [
       "dict_keys(['likes_media_likes'])"
      ]
     },
     "execution_count": 69,
     "metadata": {},
     "output_type": "execute_result"
    }
   ],
   "source": [
    "dat.keys()"
   ]
  },
  {
   "cell_type": "code",
   "execution_count": 70,
   "id": "391bfa52",
   "metadata": {},
   "outputs": [
    {
     "data": {
      "text/plain": [
       "{'title': 'adamtots',\n",
       " 'media_list_data': [],\n",
       " 'string_list_data': [{'href': 'https://www.instagram.com/p/BPqR2tWBXCz/',\n",
       "   'value': 'ð\\x9f\\x91\\x8d',\n",
       "   'timestamp': 1485290262}]}"
      ]
     },
     "execution_count": 70,
     "metadata": {},
     "output_type": "execute_result"
    }
   ],
   "source": [
    "dat['likes_media_likes'][0]"
   ]
  },
  {
   "cell_type": "markdown",
   "id": "31f3dedc",
   "metadata": {},
   "source": [
    "After calling and reviewing the data under dat, I discovered that the '_timestamp_' value was located in the 'string_list_data' key. "
   ]
  },
  {
   "cell_type": "markdown",
   "id": "93daf514",
   "metadata": {},
   "source": [
    "Next I used the '__x for x in__' format to create a list using the key values generated in the previous step. I assigned this list to the variable '_likes_'. "
   ]
  },
  {
   "cell_type": "code",
   "execution_count": 71,
   "id": "e75ffc7f",
   "metadata": {},
   "outputs": [],
   "source": [
    "likes = [x['string_list_data'][0] for x in dat['likes_media_likes']]"
   ]
  },
  {
   "cell_type": "markdown",
   "id": "f0d0b02a",
   "metadata": {},
   "source": [
    "2. Once I had generated a list, I created a data frame by using the function '__DataFrame__' from the _pandas_ library, and calling columns 1 through 10 on the likes variable I created previously. I then called the data frame to demonstrate what was generated.\n",
    "If I were to evaluate this data by creating a graph, the full list would be used. However, for the purposes of this report I have limited the data to only show rows 1-10."
   ]
  },
  {
   "cell_type": "code",
   "execution_count": 72,
   "id": "8c3ee2b7",
   "metadata": {},
   "outputs": [],
   "source": [
    "df_likes = pd.DataFrame(likes[0:10])"
   ]
  },
  {
   "cell_type": "code",
   "execution_count": 73,
   "id": "24ce4b96",
   "metadata": {},
   "outputs": [
    {
     "data": {
      "text/html": [
       "<div>\n",
       "<style scoped>\n",
       "    .dataframe tbody tr th:only-of-type {\n",
       "        vertical-align: middle;\n",
       "    }\n",
       "\n",
       "    .dataframe tbody tr th {\n",
       "        vertical-align: top;\n",
       "    }\n",
       "\n",
       "    .dataframe thead th {\n",
       "        text-align: right;\n",
       "    }\n",
       "</style>\n",
       "<table border=\"1\" class=\"dataframe\">\n",
       "  <thead>\n",
       "    <tr style=\"text-align: right;\">\n",
       "      <th></th>\n",
       "      <th>href</th>\n",
       "      <th>value</th>\n",
       "      <th>timestamp</th>\n",
       "    </tr>\n",
       "  </thead>\n",
       "  <tbody>\n",
       "    <tr>\n",
       "      <th>0</th>\n",
       "      <td>https://www.instagram.com/p/BPqR2tWBXCz/</td>\n",
       "      <td>ð</td>\n",
       "      <td>1485290262</td>\n",
       "    </tr>\n",
       "    <tr>\n",
       "      <th>1</th>\n",
       "      <td>https://www.instagram.com/p/BPofKXNDZ8mwezKoQe...</td>\n",
       "      <td>ð</td>\n",
       "      <td>1485231524</td>\n",
       "    </tr>\n",
       "    <tr>\n",
       "      <th>2</th>\n",
       "      <td>https://www.instagram.com/p/BPjSL0XDm6pgocsfBv...</td>\n",
       "      <td>ð</td>\n",
       "      <td>1485200964</td>\n",
       "    </tr>\n",
       "    <tr>\n",
       "      <th>3</th>\n",
       "      <td>https://www.instagram.com/p/BPmKZeGD8NINnctU-O...</td>\n",
       "      <td>ð</td>\n",
       "      <td>1485200783</td>\n",
       "    </tr>\n",
       "    <tr>\n",
       "      <th>4</th>\n",
       "      <td>https://www.instagram.com/p/BPk71mxA3SfV6-6G-e...</td>\n",
       "      <td>ð</td>\n",
       "      <td>1485110687</td>\n",
       "    </tr>\n",
       "    <tr>\n",
       "      <th>5</th>\n",
       "      <td>https://www.instagram.com/p/BPk7rqMgDCQq3tfqxu...</td>\n",
       "      <td>ð</td>\n",
       "      <td>1485110675</td>\n",
       "    </tr>\n",
       "    <tr>\n",
       "      <th>6</th>\n",
       "      <td>https://www.instagram.com/p/BPjzTyjh72s/</td>\n",
       "      <td>ð</td>\n",
       "      <td>1485097208</td>\n",
       "    </tr>\n",
       "    <tr>\n",
       "      <th>7</th>\n",
       "      <td>https://www.instagram.com/p/BPYlr3ehDlJ/</td>\n",
       "      <td>ð</td>\n",
       "      <td>1485033952</td>\n",
       "    </tr>\n",
       "    <tr>\n",
       "      <th>8</th>\n",
       "      <td>https://www.instagram.com/p/BPS9vtMBei4/</td>\n",
       "      <td>ð</td>\n",
       "      <td>1484520428</td>\n",
       "    </tr>\n",
       "    <tr>\n",
       "      <th>9</th>\n",
       "      <td>https://www.instagram.com/p/BPSlcOgAzxD/</td>\n",
       "      <td>ð</td>\n",
       "      <td>1484495042</td>\n",
       "    </tr>\n",
       "  </tbody>\n",
       "</table>\n",
       "</div>"
      ],
      "text/plain": [
       "                                                href value   timestamp\n",
       "0           https://www.instagram.com/p/BPqR2tWBXCz/  ð  1485290262\n",
       "1  https://www.instagram.com/p/BPofKXNDZ8mwezKoQe...  ð  1485231524\n",
       "2  https://www.instagram.com/p/BPjSL0XDm6pgocsfBv...  ð  1485200964\n",
       "3  https://www.instagram.com/p/BPmKZeGD8NINnctU-O...  ð  1485200783\n",
       "4  https://www.instagram.com/p/BPk71mxA3SfV6-6G-e...  ð  1485110687\n",
       "5  https://www.instagram.com/p/BPk7rqMgDCQq3tfqxu...  ð  1485110675\n",
       "6           https://www.instagram.com/p/BPjzTyjh72s/  ð  1485097208\n",
       "7           https://www.instagram.com/p/BPYlr3ehDlJ/  ð  1485033952\n",
       "8           https://www.instagram.com/p/BPS9vtMBei4/  ð  1484520428\n",
       "9           https://www.instagram.com/p/BPSlcOgAzxD/  ð  1484495042"
      ]
     },
     "execution_count": 73,
     "metadata": {},
     "output_type": "execute_result"
    }
   ],
   "source": [
    "df_likes"
   ]
  },
  {
   "cell_type": "markdown",
   "id": "9a9a6fac",
   "metadata": {},
   "source": [
    "3. I determined that Instagram Collected the data shown above in order to sell it to advertisers to then create targeted advertisements. In some ways this data is reliable, for example if I were to like a lot of posts relating to a specific brand of clothing, chances are I like that brand of clothing. However it can also be unreliable. For example, I may like items relating to fashion for other reasons such as art references."
   ]
  },
  {
   "cell_type": "markdown",
   "id": "28e87bf7",
   "metadata": {},
   "source": [
    "4. Bellow I took the data I had gathered from the likes report and transfered it into a CSV file using dot notation and the function __to_csv__. I then went on to group that data by \"timestamp\" using the __groupby__ function and used the __count__ function to make a more readable data frame."
   ]
  },
  {
   "cell_type": "code",
   "execution_count": 74,
   "id": "75df1367",
   "metadata": {},
   "outputs": [],
   "source": [
    "df_likes.to_csv(r'C:\\Users\\glori\\OneDrive\\Desktop\\Classes\\Data in EMAT\\liked.csv')"
   ]
  },
  {
   "cell_type": "code",
   "execution_count": 75,
   "id": "9197271c",
   "metadata": {
    "scrolled": true
   },
   "outputs": [],
   "source": [
    "dictionary = df_likes.groupby('timestamp').count()"
   ]
  },
  {
   "cell_type": "code",
   "execution_count": 76,
   "id": "7be58b27",
   "metadata": {},
   "outputs": [
    {
     "data": {
      "text/html": [
       "<div>\n",
       "<style scoped>\n",
       "    .dataframe tbody tr th:only-of-type {\n",
       "        vertical-align: middle;\n",
       "    }\n",
       "\n",
       "    .dataframe tbody tr th {\n",
       "        vertical-align: top;\n",
       "    }\n",
       "\n",
       "    .dataframe thead th {\n",
       "        text-align: right;\n",
       "    }\n",
       "</style>\n",
       "<table border=\"1\" class=\"dataframe\">\n",
       "  <thead>\n",
       "    <tr style=\"text-align: right;\">\n",
       "      <th></th>\n",
       "      <th>href</th>\n",
       "      <th>value</th>\n",
       "    </tr>\n",
       "    <tr>\n",
       "      <th>timestamp</th>\n",
       "      <th></th>\n",
       "      <th></th>\n",
       "    </tr>\n",
       "  </thead>\n",
       "  <tbody>\n",
       "    <tr>\n",
       "      <th>1484495042</th>\n",
       "      <td>1</td>\n",
       "      <td>1</td>\n",
       "    </tr>\n",
       "    <tr>\n",
       "      <th>1484520428</th>\n",
       "      <td>1</td>\n",
       "      <td>1</td>\n",
       "    </tr>\n",
       "    <tr>\n",
       "      <th>1485033952</th>\n",
       "      <td>1</td>\n",
       "      <td>1</td>\n",
       "    </tr>\n",
       "    <tr>\n",
       "      <th>1485097208</th>\n",
       "      <td>1</td>\n",
       "      <td>1</td>\n",
       "    </tr>\n",
       "    <tr>\n",
       "      <th>1485110675</th>\n",
       "      <td>1</td>\n",
       "      <td>1</td>\n",
       "    </tr>\n",
       "    <tr>\n",
       "      <th>1485110687</th>\n",
       "      <td>1</td>\n",
       "      <td>1</td>\n",
       "    </tr>\n",
       "    <tr>\n",
       "      <th>1485200783</th>\n",
       "      <td>1</td>\n",
       "      <td>1</td>\n",
       "    </tr>\n",
       "    <tr>\n",
       "      <th>1485200964</th>\n",
       "      <td>1</td>\n",
       "      <td>1</td>\n",
       "    </tr>\n",
       "    <tr>\n",
       "      <th>1485231524</th>\n",
       "      <td>1</td>\n",
       "      <td>1</td>\n",
       "    </tr>\n",
       "    <tr>\n",
       "      <th>1485290262</th>\n",
       "      <td>1</td>\n",
       "      <td>1</td>\n",
       "    </tr>\n",
       "  </tbody>\n",
       "</table>\n",
       "</div>"
      ],
      "text/plain": [
       "            href  value\n",
       "timestamp              \n",
       "1484495042     1      1\n",
       "1484520428     1      1\n",
       "1485033952     1      1\n",
       "1485097208     1      1\n",
       "1485110675     1      1\n",
       "1485110687     1      1\n",
       "1485200783     1      1\n",
       "1485200964     1      1\n",
       "1485231524     1      1\n",
       "1485290262     1      1"
      ]
     },
     "execution_count": 76,
     "metadata": {},
     "output_type": "execute_result"
    }
   ],
   "source": [
    "dictionary"
   ]
  },
  {
   "cell_type": "markdown",
   "id": "f2cf6126",
   "metadata": {},
   "source": [
    "5. Due to the amount of art I see on Instagram, I believe that I follow mostly art accounts. With the data provided in the \"following\" file, I will test my prediction that 70% of my follows are art accounts.\n",
    "Ideally a column would be provided in the data that stated the type of account each was; this could include personal, art, business, ect. The quickest way of identifying art or nonart accounts would be to add a column that contained a value of 'yes' or 'no' depending on if an account was an art related account."
   ]
  },
  {
   "cell_type": "markdown",
   "id": "a391c869",
   "metadata": {},
   "source": [
    "I reviewed previous class notes in order to understand how to use each functions. After looking at the previous demonstrations I was able to understand what each function did and how the data was obtained and organized.\n",
    "The main place I struggled was indexing the list and data frame so that I could view specific rows. I used the Panda Docs for this information under their \"Indexing and selecting data\" page."
   ]
  },
  {
   "cell_type": "markdown",
   "id": "f1397f31",
   "metadata": {},
   "source": [
    "The data presented would be more useful for my hypothesis if each like was related to a category, or if the timestamp was more readable to the human eye. Rather then having a string of numbers this data would be more useful if the time stamp was \"5:00\" or \"14:00\" and so on. In the future I will learn how to interpret time related data in order to come to better conclusions."
   ]
  }
 ],
 "metadata": {
  "kernelspec": {
   "display_name": "Python 3 (ipykernel)",
   "language": "python",
   "name": "python3"
  },
  "language_info": {
   "codemirror_mode": {
    "name": "ipython",
    "version": 3
   },
   "file_extension": ".py",
   "mimetype": "text/x-python",
   "name": "python",
   "nbconvert_exporter": "python",
   "pygments_lexer": "ipython3",
   "version": "3.9.6"
  }
 },
 "nbformat": 4,
 "nbformat_minor": 5
}
