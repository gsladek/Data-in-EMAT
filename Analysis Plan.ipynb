{
 "cells": [
  {
   "cell_type": "markdown",
   "id": "795921f7",
   "metadata": {},
   "source": [
    "# Goal: gauge ingagement between tradition and digital art on twitter"
   ]
  },
  {
   "cell_type": "code",
   "execution_count": 1,
   "id": "f4d85fc2",
   "metadata": {},
   "outputs": [],
   "source": [
    "import requests\n",
    "import pandas as pd\n",
    "import json\n",
    "import urllib\n",
    "import matplotlib\n",
    "from PIL import Image\n",
    "import io"
   ]
  },
  {
   "cell_type": "markdown",
   "id": "02fefc24",
   "metadata": {},
   "source": [
    "### Linking to the Twitter API"
   ]
  },
  {
   "cell_type": "code",
   "execution_count": 2,
   "id": "7e338896",
   "metadata": {},
   "outputs": [],
   "source": [
    "bearer_token = pd.read_csv(\"twitterApp.txt\", header = 0)"
   ]
  },
  {
   "cell_type": "code",
   "execution_count": 3,
   "id": "171da77a",
   "metadata": {},
   "outputs": [],
   "source": [
    "token = bearer_token['Bearer Token'].iloc[0]"
   ]
  },
  {
   "cell_type": "code",
   "execution_count": 4,
   "id": "bde5a965",
   "metadata": {},
   "outputs": [],
   "source": [
    "header = {'Authorization' : 'Bearer {}'.format(token)}"
   ]
  },
  {
   "cell_type": "code",
   "execution_count": 5,
   "id": "d90f5318",
   "metadata": {},
   "outputs": [],
   "source": [
    "endpoint_url = 'https://api.twitter.com/2/tweets/search/recent'"
   ]
  },
  {
   "cell_type": "markdown",
   "id": "d2e79542",
   "metadata": {},
   "source": [
    "    Query to display posts using the hashtags of digital and traditional art to create queries and 2 data sets\n",
    "    By splitting the hashtags I can rate the engage ment in each catagory and compare it"
   ]
  },
  {
   "cell_type": "code",
   "execution_count": 6,
   "id": "5ea0f8a9",
   "metadata": {},
   "outputs": [],
   "source": [
    "query = urllib.parse.quote('(#digitalart OR #digital #art) -is:retweet')\n",
    "query2 = urllib.parse.quote('(#traditionalart OR #traditional #art) -is:retweet') "
   ]
  },
  {
   "cell_type": "code",
   "execution_count": 7,
   "id": "bb8b5e7b",
   "metadata": {},
   "outputs": [],
   "source": [
    "tweet_fields = 'author_id,id,text,public_metrics,created_at,entities'"
   ]
  },
  {
   "cell_type": "code",
   "execution_count": 8,
   "id": "ab916bf9",
   "metadata": {},
   "outputs": [],
   "source": [
    "url = endpoint_url + '?query={}&tweet.fields={}&user.fields={}&media.fields={}&max_results=100'.format(query,tweet_fields,\"username\",\"preview_image_url\")\n",
    "url2 = endpoint_url + '?query={}&tweet.fields={}&user.fields={}&max_results=100'.format(query2,tweet_fields,\"username\")"
   ]
  },
  {
   "cell_type": "code",
   "execution_count": 9,
   "id": "6405e7ec",
   "metadata": {},
   "outputs": [],
   "source": [
    "q1_response_1 = requests.request(\"GET\", url, headers=header, stream = True)\n",
    "q2_response_1 = requests.request(\"GET\", url2, headers=header)"
   ]
  },
  {
   "cell_type": "code",
   "execution_count": 10,
   "id": "ed713ea2",
   "metadata": {},
   "outputs": [],
   "source": [
    "q1_response_1_dict = json.loads(q1_response_1.text)\n",
    "q2_response_1_dict = json.loads(q2_response_1.text)"
   ]
  },
  {
   "cell_type": "markdown",
   "id": "e86c7710",
   "metadata": {},
   "source": [
    "### Getting images"
   ]
  },
  {
   "cell_type": "markdown",
   "id": "4567dea0",
   "metadata": {},
   "source": [
    "testing the image gathering\n",
    "ref: https://github.com/dataesilva/22110-FA21/blob/main/Class-Examples/Twitter-Images-Example.ipynb"
   ]
  },
  {
   "cell_type": "markdown",
   "id": "91f27f6b",
   "metadata": {},
   "source": [
    "img_url = q1_response_1_dict['data'][0]['entities']['urls'][0]['images'][0]['url']\n",
    "\n",
    "_This line only works somtimes. Im not sure why it works and doesnt work other times even through all the posts have images. For some reason image_url isnt being added every time i run the full program_\n",
    "##### test image for adding to dataframe\n",
    "https://pbs.twimg.com/news_img/1467195039302529028/5b6iNygv?format=jpg&name=orig"
   ]
  },
  {
   "cell_type": "markdown",
   "id": "a7e59c13",
   "metadata": {},
   "source": [
    "twt_response = requests.get(img_url, stream = True)"
   ]
  },
  {
   "cell_type": "markdown",
   "id": "ab5177af",
   "metadata": {},
   "source": [
    "twt_response"
   ]
  },
  {
   "cell_type": "markdown",
   "id": "edf4ce3b",
   "metadata": {},
   "source": [
    "twt_image = Image.open(io.BytesIO(twt_response.content))"
   ]
  },
  {
   "cell_type": "markdown",
   "id": "da3c6af6",
   "metadata": {},
   "source": [
    "twt_image"
   ]
  },
  {
   "cell_type": "markdown",
   "id": "8f3a1344",
   "metadata": {},
   "source": [
    "### Creating the first page for 2 Dataframes"
   ]
  },
  {
   "cell_type": "code",
   "execution_count": 11,
   "id": "184d8915",
   "metadata": {},
   "outputs": [],
   "source": [
    "q1_page1 = pd.DataFrame(q1_response_1_dict['data'])\n",
    "q2_page1 = pd.DataFrame(q2_response_1_dict['data'])"
   ]
  },
  {
   "cell_type": "code",
   "execution_count": 12,
   "id": "23ad851e",
   "metadata": {},
   "outputs": [],
   "source": [
    "q1_metrics1 = pd.DataFrame(list(q1_page1['public_metrics']))\n",
    "q2_metrics1 = pd.DataFrame(list(q2_page1['public_metrics']))"
   ]
  },
  {
   "cell_type": "markdown",
   "id": "74f0ea5f",
   "metadata": {},
   "source": [
    "### Combining the two dataframes into 1, The metrics with the data for the 2 seperate dataframes\n"
   ]
  },
  {
   "cell_type": "code",
   "execution_count": 13,
   "id": "15056b62",
   "metadata": {},
   "outputs": [],
   "source": [
    "q1_page1['likes'] = q1_metrics1['like_count']\n",
    "q1_page1['retweets'] = q1_metrics1['retweet_count']\n",
    "q1_page1['comments'] = q1_metrics1['reply_count']\n",
    "\n",
    "q2_page1['likes'] = q2_metrics1['like_count']\n",
    "q2_page1['retweets'] = q2_metrics1['retweet_count']\n",
    "q2_page1['comments'] = q2_metrics1['reply_count']\n",
    "\n",
    "del q1_page1['public_metrics']\n",
    "del q2_page1['public_metrics']"
   ]
  },
  {
   "cell_type": "code",
   "execution_count": 23,
   "id": "5083442f",
   "metadata": {},
   "outputs": [
    {
     "data": {
      "text/plain": [
       "0     {'hashtags': [{'start': 48, 'end': 53, 'tag': ...\n",
       "1     {'hashtags': [{'start': 58, 'end': 63, 'tag': ...\n",
       "2     {'hashtags': [{'start': 21, 'end': 29, 'tag': ...\n",
       "3     {'hashtags': [{'start': 27, 'end': 38, 'tag': ...\n",
       "4     {'hashtags': [{'start': 65, 'end': 79, 'tag': ...\n",
       "                            ...                        \n",
       "95    {'hashtags': [{'start': 73, 'end': 84, 'tag': ...\n",
       "96    {'hashtags': [{'start': 56, 'end': 61, 'tag': ...\n",
       "97    {'hashtags': [{'start': 32, 'end': 46, 'tag': ...\n",
       "98    {'hashtags': [{'start': 39, 'end': 50, 'tag': ...\n",
       "99    {'hashtags': [{'start': 148, 'end': 152, 'tag'...\n",
       "Name: entities, Length: 100, dtype: object"
      ]
     },
     "execution_count": 23,
     "metadata": {},
     "output_type": "execute_result"
    }
   ],
   "source": [
    "q1_page1['entities'][0]"
   ]
  },
  {
   "cell_type": "code",
   "execution_count": 15,
   "id": "261f9c2c",
   "metadata": {},
   "outputs": [
    {
     "data": {
      "text/html": [
       "<div>\n",
       "<style scoped>\n",
       "    .dataframe tbody tr th:only-of-type {\n",
       "        vertical-align: middle;\n",
       "    }\n",
       "\n",
       "    .dataframe tbody tr th {\n",
       "        vertical-align: top;\n",
       "    }\n",
       "\n",
       "    .dataframe thead th {\n",
       "        text-align: right;\n",
       "    }\n",
       "</style>\n",
       "<table border=\"1\" class=\"dataframe\">\n",
       "  <thead>\n",
       "    <tr style=\"text-align: right;\">\n",
       "      <th></th>\n",
       "      <th>entities</th>\n",
       "      <th>created_at</th>\n",
       "      <th>id</th>\n",
       "      <th>text</th>\n",
       "      <th>author_id</th>\n",
       "      <th>likes</th>\n",
       "      <th>retweets</th>\n",
       "      <th>comments</th>\n",
       "    </tr>\n",
       "  </thead>\n",
       "  <tbody>\n",
       "    <tr>\n",
       "      <th>0</th>\n",
       "      <td>{'hashtags': [{'start': 48, 'end': 53, 'tag': ...</td>\n",
       "      <td>2021-12-06T02:47:52.000Z</td>\n",
       "      <td>1467687203148943366</td>\n",
       "      <td>BAO Boated Apien #4.009\\nhttps://t.co/6ZXns5E8...</td>\n",
       "      <td>1313506247111393280</td>\n",
       "      <td>0</td>\n",
       "      <td>0</td>\n",
       "      <td>0</td>\n",
       "    </tr>\n",
       "    <tr>\n",
       "      <th>1</th>\n",
       "      <td>{'hashtags': [{'start': 58, 'end': 63, 'tag': ...</td>\n",
       "      <td>2021-12-06T02:47:33.000Z</td>\n",
       "      <td>1467687126678392832</td>\n",
       "      <td>ToonGuysNFT project coming soon hopefully on \\...</td>\n",
       "      <td>1464878865289867269</td>\n",
       "      <td>0</td>\n",
       "      <td>0</td>\n",
       "      <td>0</td>\n",
       "    </tr>\n",
       "    <tr>\n",
       "      <th>2</th>\n",
       "      <td>{'hashtags': [{'start': 21, 'end': 29, 'tag': ...</td>\n",
       "      <td>2021-12-06T02:47:21.000Z</td>\n",
       "      <td>1467687073901694979</td>\n",
       "      <td>Hatsune Miku day 92\\n\\n#miku100 #VOCALOID #Hat...</td>\n",
       "      <td>1433496302889938945</td>\n",
       "      <td>0</td>\n",
       "      <td>0</td>\n",
       "      <td>0</td>\n",
       "    </tr>\n",
       "    <tr>\n",
       "      <th>3</th>\n",
       "      <td>{'hashtags': [{'start': 27, 'end': 38, 'tag': ...</td>\n",
       "      <td>2021-12-06T02:47:18.000Z</td>\n",
       "      <td>1467687062094565380</td>\n",
       "      <td>Dibujos de hace tiempo 😋🙌\\n\\n#digitalart #art ...</td>\n",
       "      <td>1461770386622885893</td>\n",
       "      <td>0</td>\n",
       "      <td>0</td>\n",
       "      <td>0</td>\n",
       "    </tr>\n",
       "    <tr>\n",
       "      <th>4</th>\n",
       "      <td>{'hashtags': [{'start': 65, 'end': 79, 'tag': ...</td>\n",
       "      <td>2021-12-06T02:47:08.000Z</td>\n",
       "      <td>1467687020835135489</td>\n",
       "      <td>What is your favourite madness combat characte...</td>\n",
       "      <td>1467674645495177217</td>\n",
       "      <td>0</td>\n",
       "      <td>0</td>\n",
       "      <td>0</td>\n",
       "    </tr>\n",
       "  </tbody>\n",
       "</table>\n",
       "</div>"
      ],
      "text/plain": [
       "                                            entities  \\\n",
       "0  {'hashtags': [{'start': 48, 'end': 53, 'tag': ...   \n",
       "1  {'hashtags': [{'start': 58, 'end': 63, 'tag': ...   \n",
       "2  {'hashtags': [{'start': 21, 'end': 29, 'tag': ...   \n",
       "3  {'hashtags': [{'start': 27, 'end': 38, 'tag': ...   \n",
       "4  {'hashtags': [{'start': 65, 'end': 79, 'tag': ...   \n",
       "\n",
       "                 created_at                   id  \\\n",
       "0  2021-12-06T02:47:52.000Z  1467687203148943366   \n",
       "1  2021-12-06T02:47:33.000Z  1467687126678392832   \n",
       "2  2021-12-06T02:47:21.000Z  1467687073901694979   \n",
       "3  2021-12-06T02:47:18.000Z  1467687062094565380   \n",
       "4  2021-12-06T02:47:08.000Z  1467687020835135489   \n",
       "\n",
       "                                                text            author_id  \\\n",
       "0  BAO Boated Apien #4.009\\nhttps://t.co/6ZXns5E8...  1313506247111393280   \n",
       "1  ToonGuysNFT project coming soon hopefully on \\...  1464878865289867269   \n",
       "2  Hatsune Miku day 92\\n\\n#miku100 #VOCALOID #Hat...  1433496302889938945   \n",
       "3  Dibujos de hace tiempo 😋🙌\\n\\n#digitalart #art ...  1461770386622885893   \n",
       "4  What is your favourite madness combat characte...  1467674645495177217   \n",
       "\n",
       "   likes  retweets  comments  \n",
       "0      0         0         0  \n",
       "1      0         0         0  \n",
       "2      0         0         0  \n",
       "3      0         0         0  \n",
       "4      0         0         0  "
      ]
     },
     "execution_count": 15,
     "metadata": {},
     "output_type": "execute_result"
    }
   ],
   "source": [
    "q1_page1.head()"
   ]
  },
  {
   "cell_type": "code",
   "execution_count": 16,
   "id": "2171936d",
   "metadata": {},
   "outputs": [
    {
     "data": {
      "text/html": [
       "<div>\n",
       "<style scoped>\n",
       "    .dataframe tbody tr th:only-of-type {\n",
       "        vertical-align: middle;\n",
       "    }\n",
       "\n",
       "    .dataframe tbody tr th {\n",
       "        vertical-align: top;\n",
       "    }\n",
       "\n",
       "    .dataframe thead th {\n",
       "        text-align: right;\n",
       "    }\n",
       "</style>\n",
       "<table border=\"1\" class=\"dataframe\">\n",
       "  <thead>\n",
       "    <tr style=\"text-align: right;\">\n",
       "      <th></th>\n",
       "      <th>author_id</th>\n",
       "      <th>entities</th>\n",
       "      <th>text</th>\n",
       "      <th>created_at</th>\n",
       "      <th>id</th>\n",
       "      <th>likes</th>\n",
       "      <th>retweets</th>\n",
       "      <th>comments</th>\n",
       "    </tr>\n",
       "  </thead>\n",
       "  <tbody>\n",
       "    <tr>\n",
       "      <th>0</th>\n",
       "      <td>1273055266083405824</td>\n",
       "      <td>{'urls': [{'start': 197, 'end': 220, 'url': 'h...</td>\n",
       "      <td>I’m not gonna lie I feel ridiculously proud of...</td>\n",
       "      <td>2021-12-06T02:39:44.000Z</td>\n",
       "      <td>1467685158685974533</td>\n",
       "      <td>7</td>\n",
       "      <td>1</td>\n",
       "      <td>1</td>\n",
       "    </tr>\n",
       "    <tr>\n",
       "      <th>1</th>\n",
       "      <td>1433794310374297600</td>\n",
       "      <td>{'urls': [{'start': 82, 'end': 105, 'url': 'ht...</td>\n",
       "      <td>Yes, I made this.\\n\\n#NickWilde #Zootopia #Fre...</td>\n",
       "      <td>2021-12-06T02:35:58.000Z</td>\n",
       "      <td>1467684208260886528</td>\n",
       "      <td>0</td>\n",
       "      <td>0</td>\n",
       "      <td>0</td>\n",
       "    </tr>\n",
       "    <tr>\n",
       "      <th>2</th>\n",
       "      <td>1454430612446720001</td>\n",
       "      <td>{'annotations': [{'start': 3, 'end': 11, 'prob...</td>\n",
       "      <td>My Instagram :\\n\\nhttps://t.co/ADtF6XXh9B\\n\\n#...</td>\n",
       "      <td>2021-12-06T02:35:18.000Z</td>\n",
       "      <td>1467684042946531338</td>\n",
       "      <td>1</td>\n",
       "      <td>0</td>\n",
       "      <td>0</td>\n",
       "    </tr>\n",
       "    <tr>\n",
       "      <th>3</th>\n",
       "      <td>2794916154</td>\n",
       "      <td>{'annotations': [{'start': 9, 'end': 20, 'prob...</td>\n",
       "      <td>📷 Happy St. Nicholas Day🍭🍬👢 . . . . . . . . #i...</td>\n",
       "      <td>2021-12-06T02:34:00.000Z</td>\n",
       "      <td>1467683714977214465</td>\n",
       "      <td>1</td>\n",
       "      <td>0</td>\n",
       "      <td>0</td>\n",
       "    </tr>\n",
       "    <tr>\n",
       "      <th>4</th>\n",
       "      <td>1463297916546789381</td>\n",
       "      <td>{'annotations': [{'start': 25, 'end': 29, 'pro...</td>\n",
       "      <td>My fallen angel husband, Fliah, in all his glo...</td>\n",
       "      <td>2021-12-06T02:16:57.000Z</td>\n",
       "      <td>1467679423147216901</td>\n",
       "      <td>0</td>\n",
       "      <td>0</td>\n",
       "      <td>0</td>\n",
       "    </tr>\n",
       "  </tbody>\n",
       "</table>\n",
       "</div>"
      ],
      "text/plain": [
       "             author_id                                           entities  \\\n",
       "0  1273055266083405824  {'urls': [{'start': 197, 'end': 220, 'url': 'h...   \n",
       "1  1433794310374297600  {'urls': [{'start': 82, 'end': 105, 'url': 'ht...   \n",
       "2  1454430612446720001  {'annotations': [{'start': 3, 'end': 11, 'prob...   \n",
       "3           2794916154  {'annotations': [{'start': 9, 'end': 20, 'prob...   \n",
       "4  1463297916546789381  {'annotations': [{'start': 25, 'end': 29, 'pro...   \n",
       "\n",
       "                                                text  \\\n",
       "0  I’m not gonna lie I feel ridiculously proud of...   \n",
       "1  Yes, I made this.\\n\\n#NickWilde #Zootopia #Fre...   \n",
       "2  My Instagram :\\n\\nhttps://t.co/ADtF6XXh9B\\n\\n#...   \n",
       "3  📷 Happy St. Nicholas Day🍭🍬👢 . . . . . . . . #i...   \n",
       "4  My fallen angel husband, Fliah, in all his glo...   \n",
       "\n",
       "                 created_at                   id  likes  retweets  comments  \n",
       "0  2021-12-06T02:39:44.000Z  1467685158685974533      7         1         1  \n",
       "1  2021-12-06T02:35:58.000Z  1467684208260886528      0         0         0  \n",
       "2  2021-12-06T02:35:18.000Z  1467684042946531338      1         0         0  \n",
       "3  2021-12-06T02:34:00.000Z  1467683714977214465      1         0         0  \n",
       "4  2021-12-06T02:16:57.000Z  1467679423147216901      0         0         0  "
      ]
     },
     "execution_count": 16,
     "metadata": {},
     "output_type": "execute_result"
    }
   ],
   "source": [
    "q2_page1.head()"
   ]
  },
  {
   "cell_type": "markdown",
   "id": "d8576192",
   "metadata": {},
   "source": [
    "### Creating page 2-4 "
   ]
  },
  {
   "cell_type": "markdown",
   "id": "026ba77b",
   "metadata": {},
   "source": [
    "I created a function to make this process less messy. This function takes an input of a dictionary, and uses that data to create a new \"page\" of datapoints. This way I can quickly collect 400 points from each query."
   ]
  },
  {
   "cell_type": "code",
   "execution_count": 17,
   "id": "0e24248f",
   "metadata": {},
   "outputs": [],
   "source": [
    "def next_page(dictionary):\n",
    "    next_pg = pd.DataFrame(dictionary['data'])\n",
    "    next_metric = pd.DataFrame(list(next_pg['public_metrics']))\n",
    "    ##combining the dataframes\n",
    "    next_pg['likes'] = next_metric['like_count']\n",
    "    next_pg['retweets'] = next_metric['retweet_count']\n",
    "    next_pg['comments'] = next_metric['reply_count']\n",
    "    del next_pg['public_metrics']\n",
    "    \n",
    "    return next_pg"
   ]
  },
  {
   "cell_type": "code",
   "execution_count": 18,
   "id": "24c16ca7",
   "metadata": {},
   "outputs": [],
   "source": [
    "q1_token2 = url +'&next_token={}'.format(q1_response_1_dict['meta']['next_token'])\n",
    "q1_response_2 = requests.request(\"GET\",url = q1_token2, headers=header)\n",
    "q1_response_2_dict = json.loads(q1_response_2.text)"
   ]
  },
  {
   "cell_type": "code",
   "execution_count": 19,
   "id": "a2116da3",
   "metadata": {},
   "outputs": [],
   "source": [
    "q1_page2 = next_page(q1_response_2_dict)"
   ]
  },
  {
   "cell_type": "code",
   "execution_count": 20,
   "id": "21dc6a73",
   "metadata": {},
   "outputs": [],
   "source": [
    "q1_token3 = url +'&next_token={}'.format(q1_response_2_dict['meta']['next_token'])\n",
    "q1_response_3 = requests.request(\"GET\",url = q1_token3, headers=header)\n",
    "q1_response_3_dict = json.loads(q1_response_3.text)\n",
    "\n",
    "q1_page3 = next_page(q1_response_3_dict)"
   ]
  },
  {
   "cell_type": "code",
   "execution_count": 21,
   "id": "d1e103e9",
   "metadata": {},
   "outputs": [
    {
     "data": {
      "text/html": [
       "<div>\n",
       "<style scoped>\n",
       "    .dataframe tbody tr th:only-of-type {\n",
       "        vertical-align: middle;\n",
       "    }\n",
       "\n",
       "    .dataframe tbody tr th {\n",
       "        vertical-align: top;\n",
       "    }\n",
       "\n",
       "    .dataframe thead th {\n",
       "        text-align: right;\n",
       "    }\n",
       "</style>\n",
       "<table border=\"1\" class=\"dataframe\">\n",
       "  <thead>\n",
       "    <tr style=\"text-align: right;\">\n",
       "      <th></th>\n",
       "      <th>id</th>\n",
       "      <th>entities</th>\n",
       "      <th>author_id</th>\n",
       "      <th>text</th>\n",
       "      <th>created_at</th>\n",
       "      <th>likes</th>\n",
       "      <th>retweets</th>\n",
       "      <th>comments</th>\n",
       "    </tr>\n",
       "  </thead>\n",
       "  <tbody>\n",
       "    <tr>\n",
       "      <th>0</th>\n",
       "      <td>1467684090463854604</td>\n",
       "      <td>{'urls': [{'start': 61, 'end': 84, 'url': 'htt...</td>\n",
       "      <td>3424356447</td>\n",
       "      <td>@stickytoffita ➕Add a DigiGOAT🐐 to your NFT Co...</td>\n",
       "      <td>2021-12-06T02:35:30.000Z</td>\n",
       "      <td>0</td>\n",
       "      <td>0</td>\n",
       "      <td>0</td>\n",
       "    </tr>\n",
       "    <tr>\n",
       "      <th>1</th>\n",
       "      <td>1467684074600947715</td>\n",
       "      <td>{'urls': [{'start': 57, 'end': 80, 'url': 'htt...</td>\n",
       "      <td>776724971502444544</td>\n",
       "      <td>.spaceface by lucian_shye_music #DigitalArt #d...</td>\n",
       "      <td>2021-12-06T02:35:26.000Z</td>\n",
       "      <td>0</td>\n",
       "      <td>0</td>\n",
       "      <td>0</td>\n",
       "    </tr>\n",
       "    <tr>\n",
       "      <th>2</th>\n",
       "      <td>1467684016103227393</td>\n",
       "      <td>{'annotations': [{'start': 46, 'end': 54, 'pro...</td>\n",
       "      <td>1083647971101618176</td>\n",
       "      <td>Pickup artwork \"3D truchet - Bonus Stage\" by \"...</td>\n",
       "      <td>2021-12-06T02:35:12.000Z</td>\n",
       "      <td>3</td>\n",
       "      <td>0</td>\n",
       "      <td>0</td>\n",
       "    </tr>\n",
       "    <tr>\n",
       "      <th>3</th>\n",
       "      <td>1467683924524650496</td>\n",
       "      <td>{'urls': [{'start': 192, 'end': 215, 'url': 'h...</td>\n",
       "      <td>1466857568802848772</td>\n",
       "      <td>Guys, what do you think of this style of art i...</td>\n",
       "      <td>2021-12-06T02:34:50.000Z</td>\n",
       "      <td>1</td>\n",
       "      <td>0</td>\n",
       "      <td>0</td>\n",
       "    </tr>\n",
       "    <tr>\n",
       "      <th>4</th>\n",
       "      <td>1467683907327991810</td>\n",
       "      <td>{'urls': [{'start': 279, 'end': 302, 'url': 'h...</td>\n",
       "      <td>2939905909</td>\n",
       "      <td>#texassunset #womenartisttx #womenartists #dig...</td>\n",
       "      <td>2021-12-06T02:34:46.000Z</td>\n",
       "      <td>0</td>\n",
       "      <td>0</td>\n",
       "      <td>0</td>\n",
       "    </tr>\n",
       "  </tbody>\n",
       "</table>\n",
       "</div>"
      ],
      "text/plain": [
       "                    id                                           entities  \\\n",
       "0  1467684090463854604  {'urls': [{'start': 61, 'end': 84, 'url': 'htt...   \n",
       "1  1467684074600947715  {'urls': [{'start': 57, 'end': 80, 'url': 'htt...   \n",
       "2  1467684016103227393  {'annotations': [{'start': 46, 'end': 54, 'pro...   \n",
       "3  1467683924524650496  {'urls': [{'start': 192, 'end': 215, 'url': 'h...   \n",
       "4  1467683907327991810  {'urls': [{'start': 279, 'end': 302, 'url': 'h...   \n",
       "\n",
       "             author_id                                               text  \\\n",
       "0           3424356447  @stickytoffita ➕Add a DigiGOAT🐐 to your NFT Co...   \n",
       "1   776724971502444544  .spaceface by lucian_shye_music #DigitalArt #d...   \n",
       "2  1083647971101618176  Pickup artwork \"3D truchet - Bonus Stage\" by \"...   \n",
       "3  1466857568802848772  Guys, what do you think of this style of art i...   \n",
       "4           2939905909  #texassunset #womenartisttx #womenartists #dig...   \n",
       "\n",
       "                 created_at  likes  retweets  comments  \n",
       "0  2021-12-06T02:35:30.000Z      0         0         0  \n",
       "1  2021-12-06T02:35:26.000Z      0         0         0  \n",
       "2  2021-12-06T02:35:12.000Z      3         0         0  \n",
       "3  2021-12-06T02:34:50.000Z      1         0         0  \n",
       "4  2021-12-06T02:34:46.000Z      0         0         0  "
      ]
     },
     "execution_count": 21,
     "metadata": {},
     "output_type": "execute_result"
    }
   ],
   "source": [
    "q1_page2.head()"
   ]
  },
  {
   "cell_type": "code",
   "execution_count": 22,
   "id": "d81be1e4",
   "metadata": {},
   "outputs": [
    {
     "data": {
      "text/html": [
       "<div>\n",
       "<style scoped>\n",
       "    .dataframe tbody tr th:only-of-type {\n",
       "        vertical-align: middle;\n",
       "    }\n",
       "\n",
       "    .dataframe tbody tr th {\n",
       "        vertical-align: top;\n",
       "    }\n",
       "\n",
       "    .dataframe thead th {\n",
       "        text-align: right;\n",
       "    }\n",
       "</style>\n",
       "<table border=\"1\" class=\"dataframe\">\n",
       "  <thead>\n",
       "    <tr style=\"text-align: right;\">\n",
       "      <th></th>\n",
       "      <th>author_id</th>\n",
       "      <th>entities</th>\n",
       "      <th>text</th>\n",
       "      <th>created_at</th>\n",
       "      <th>id</th>\n",
       "      <th>likes</th>\n",
       "      <th>retweets</th>\n",
       "      <th>comments</th>\n",
       "    </tr>\n",
       "  </thead>\n",
       "  <tbody>\n",
       "    <tr>\n",
       "      <th>0</th>\n",
       "      <td>1273707843095531521</td>\n",
       "      <td>{'urls': [{'start': 42, 'end': 65, 'url': 'htt...</td>\n",
       "      <td>👑👑👑👑👑\\n#rickross\\n#digitalart #art #artwork ht...</td>\n",
       "      <td>2021-12-06T02:24:23.000Z</td>\n",
       "      <td>1467681294360489984</td>\n",
       "      <td>0</td>\n",
       "      <td>0</td>\n",
       "      <td>0</td>\n",
       "    </tr>\n",
       "    <tr>\n",
       "      <th>1</th>\n",
       "      <td>1356112338215174146</td>\n",
       "      <td>{'urls': [{'start': 112, 'end': 135, 'url': 'h...</td>\n",
       "      <td>#NewProfilePic #bakudeku #mha #bkdk #anime #MH...</td>\n",
       "      <td>2021-12-06T02:24:10.000Z</td>\n",
       "      <td>1467681238248996869</td>\n",
       "      <td>1</td>\n",
       "      <td>0</td>\n",
       "      <td>0</td>\n",
       "    </tr>\n",
       "    <tr>\n",
       "      <th>2</th>\n",
       "      <td>1466834151231815680</td>\n",
       "      <td>{'urls': [{'start': 278, 'end': 301, 'url': 'h...</td>\n",
       "      <td>The Diamond Ether Lion! The most supreme of al...</td>\n",
       "      <td>2021-12-06T02:23:56.000Z</td>\n",
       "      <td>1467681180648574982</td>\n",
       "      <td>1</td>\n",
       "      <td>0</td>\n",
       "      <td>0</td>\n",
       "    </tr>\n",
       "    <tr>\n",
       "      <th>3</th>\n",
       "      <td>1196527572672225280</td>\n",
       "      <td>{'urls': [{'start': 136, 'end': 159, 'url': 'h...</td>\n",
       "      <td>new subscription\\n#desenhodigital #drawing #dr...</td>\n",
       "      <td>2021-12-06T02:23:45.000Z</td>\n",
       "      <td>1467681134515478533</td>\n",
       "      <td>0</td>\n",
       "      <td>0</td>\n",
       "      <td>0</td>\n",
       "    </tr>\n",
       "    <tr>\n",
       "      <th>4</th>\n",
       "      <td>196639261</td>\n",
       "      <td>{'mentions': [{'start': 175, 'end': 182, 'user...</td>\n",
       "      <td>Some Gifts from a advent-calendar I made for m...</td>\n",
       "      <td>2021-12-06T02:23:42.000Z</td>\n",
       "      <td>1467681122398134274</td>\n",
       "      <td>0</td>\n",
       "      <td>0</td>\n",
       "      <td>0</td>\n",
       "    </tr>\n",
       "  </tbody>\n",
       "</table>\n",
       "</div>"
      ],
      "text/plain": [
       "             author_id                                           entities  \\\n",
       "0  1273707843095531521  {'urls': [{'start': 42, 'end': 65, 'url': 'htt...   \n",
       "1  1356112338215174146  {'urls': [{'start': 112, 'end': 135, 'url': 'h...   \n",
       "2  1466834151231815680  {'urls': [{'start': 278, 'end': 301, 'url': 'h...   \n",
       "3  1196527572672225280  {'urls': [{'start': 136, 'end': 159, 'url': 'h...   \n",
       "4            196639261  {'mentions': [{'start': 175, 'end': 182, 'user...   \n",
       "\n",
       "                                                text  \\\n",
       "0  👑👑👑👑👑\\n#rickross\\n#digitalart #art #artwork ht...   \n",
       "1  #NewProfilePic #bakudeku #mha #bkdk #anime #MH...   \n",
       "2  The Diamond Ether Lion! The most supreme of al...   \n",
       "3  new subscription\\n#desenhodigital #drawing #dr...   \n",
       "4  Some Gifts from a advent-calendar I made for m...   \n",
       "\n",
       "                 created_at                   id  likes  retweets  comments  \n",
       "0  2021-12-06T02:24:23.000Z  1467681294360489984      0         0         0  \n",
       "1  2021-12-06T02:24:10.000Z  1467681238248996869      1         0         0  \n",
       "2  2021-12-06T02:23:56.000Z  1467681180648574982      1         0         0  \n",
       "3  2021-12-06T02:23:45.000Z  1467681134515478533      0         0         0  \n",
       "4  2021-12-06T02:23:42.000Z  1467681122398134274      0         0         0  "
      ]
     },
     "execution_count": 22,
     "metadata": {},
     "output_type": "execute_result"
    }
   ],
   "source": [
    "q1_page3.head()"
   ]
  },
  {
   "cell_type": "markdown",
   "id": "01dfcf9d",
   "metadata": {},
   "source": [
    "### Next I plan to focus on the overall response between the two types of art. I will do this by creating charts depicting the retweets, likes, and comments to see which posts were more active."
   ]
  }
 ],
 "metadata": {
  "kernelspec": {
   "display_name": "Python 3 (ipykernel)",
   "language": "python",
   "name": "python3"
  },
  "language_info": {
   "codemirror_mode": {
    "name": "ipython",
    "version": 3
   },
   "file_extension": ".py",
   "mimetype": "text/x-python",
   "name": "python",
   "nbconvert_exporter": "python",
   "pygments_lexer": "ipython3",
   "version": "3.9.6"
  }
 },
 "nbformat": 4,
 "nbformat_minor": 5
}
