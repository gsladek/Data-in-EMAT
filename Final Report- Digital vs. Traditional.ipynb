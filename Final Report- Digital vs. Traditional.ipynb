{
 "cells": [
  {
   "cell_type": "markdown",
   "id": "795921f7",
   "metadata": {},
   "source": [
    "# Tradition vs Digital art on Twitter\n"
   ]
  },
  {
   "cell_type": "markdown",
   "id": "2c156361",
   "metadata": {},
   "source": [
    " By: Gloria Sladek "
   ]
  },
  {
   "cell_type": "markdown",
   "id": "f0c546da",
   "metadata": {},
   "source": [
    "\n",
    "I conducted this analysis to compare the interaction of traditional and digital art on twitter. As an artist I was curios to see the difference between the two. Going into this analysis I believed that digital art would get more engagement due to the fact that twitter is a digital platform.\n",
    "\n",
    "Many artist use twitter as a way to interact with their users but I have not seen anyone talk about what type of art is best displayed on this platform. I am a digital artist and mostly use instagram to engage my audience though some people have told me I should try sharing my art on twitter. \n",
    " \n",
    "In order to answer my hypothesis I will be focusing on the _public metrics_ dataset from twitter which includes likes, comments, and retweets."
   ]
  },
  {
   "cell_type": "markdown",
   "id": "2c3e6b46",
   "metadata": {},
   "source": [
    "### Hypothesis:\n",
    "Digital artists recieve more interaction on digital art posts rather than traditional. I predict that digital art recieves 10% more interaction then traditional art on twitter."
   ]
  },
  {
   "cell_type": "markdown",
   "id": "618ba4e3",
   "metadata": {},
   "source": [
    "### Connecting to the Twitter API"
   ]
  },
  {
   "cell_type": "code",
   "execution_count": 2,
   "id": "f4d85fc2",
   "metadata": {},
   "outputs": [],
   "source": [
    "import requests\n",
    "import pandas as pd\n",
    "import json\n",
    "import urllib\n",
    "import io\n",
    "import numpy as np\n",
    "from PIL import Image\n",
    "from matplotlib import pyplot as plt\n",
    "from scipy import stats"
   ]
  },
  {
   "cell_type": "code",
   "execution_count": 2,
   "id": "7e338896",
   "metadata": {},
   "outputs": [],
   "source": [
    "bearer_token = pd.read_csv(\"twitterApp.txt\", header = 0)"
   ]
  },
  {
   "cell_type": "code",
   "execution_count": 3,
   "id": "171da77a",
   "metadata": {},
   "outputs": [],
   "source": [
    "token = bearer_token['Bearer Token'].iloc[0]"
   ]
  },
  {
   "cell_type": "code",
   "execution_count": 4,
   "id": "bde5a965",
   "metadata": {},
   "outputs": [],
   "source": [
    "header = {'Authorization' : 'Bearer {}'.format(token)}"
   ]
  },
  {
   "cell_type": "code",
   "execution_count": 5,
   "id": "d90f5318",
   "metadata": {},
   "outputs": [],
   "source": [
    "endpoint_url = 'https://api.twitter.com/2/tweets/search/recent'"
   ]
  },
  {
   "cell_type": "markdown",
   "id": "02fefc24",
   "metadata": {},
   "source": [
    "### Creating Queries"
   ]
  },
  {
   "cell_type": "markdown",
   "id": "d2e79542",
   "metadata": {},
   "source": [
    "I created two queries to display posts using the hashtags of digital and traditional art to create queries and 2 data sets. By splitting the hashtags I can rate the engage meant in each catagory and compare it. One issue this may cause is overlap between the two types of data so I used the NOT parameter to ensure there was no overlap between the two datasets."
   ]
  },
  {
   "cell_type": "code",
   "execution_count": 6,
   "id": "5ea0f8a9",
   "metadata": {},
   "outputs": [],
   "source": [
    "query = urllib.parse.quote('(#digitalart OR #digital #art NOT (#traditionalart OR #traditional)) -is:retweet')\n",
    "query2 = urllib.parse.quote('(#traditionalart OR #traditional #art NOT (#digitalart OR #digital)) -is:retweet ') "
   ]
  },
  {
   "cell_type": "code",
   "execution_count": 7,
   "id": "bb8b5e7b",
   "metadata": {},
   "outputs": [],
   "source": [
    "tweet_fields = 'author_id,id,text,public_metrics,created_at,entities'"
   ]
  },
  {
   "cell_type": "code",
   "execution_count": 8,
   "id": "ab916bf9",
   "metadata": {},
   "outputs": [],
   "source": [
    "url = endpoint_url + '?query={}&tweet.fields={}&user.fields={}&media.fields={}&max_results=100'.format(query,tweet_fields,\"username\",\"preview_image_url\")\n",
    "url2 = endpoint_url + '?query={}&tweet.fields={}&user.fields={}&max_results=100'.format(query2,tweet_fields,\"username\")"
   ]
  },
  {
   "cell_type": "code",
   "execution_count": 9,
   "id": "6405e7ec",
   "metadata": {},
   "outputs": [],
   "source": [
    "digital_1 = requests.request(\"GET\", url, headers=header, stream = True)\n",
    "traditional_1 = requests.request(\"GET\", url2, headers=header)"
   ]
  },
  {
   "cell_type": "code",
   "execution_count": 10,
   "id": "ed713ea2",
   "metadata": {},
   "outputs": [],
   "source": [
    "digital_dict = json.loads(digital_1.text)\n",
    "traditional_dict = json.loads(traditional_1.text)"
   ]
  },
  {
   "cell_type": "markdown",
   "id": "8f3a1344",
   "metadata": {},
   "source": [
    "### Creating the first page for 2 Dataframes"
   ]
  },
  {
   "cell_type": "code",
   "execution_count": 11,
   "id": "184d8915",
   "metadata": {},
   "outputs": [],
   "source": [
    "digital_page1 = pd.DataFrame(digital_dict['data'])\n",
    "traditional_page1 = pd.DataFrame(traditional_dict['data'])"
   ]
  },
  {
   "cell_type": "code",
   "execution_count": 12,
   "id": "23ad851e",
   "metadata": {},
   "outputs": [],
   "source": [
    "digital_metrics1 = pd.DataFrame(list(digital_page1['public_metrics']))\n",
    "traditional_metrics1 = pd.DataFrame(list(traditional_page1['public_metrics']))"
   ]
  },
  {
   "cell_type": "code",
   "execution_count": 13,
   "id": "15056b62",
   "metadata": {},
   "outputs": [],
   "source": [
    "digital_page1['likes'] = digital_metrics1['like_count']\n",
    "digital_page1['retweets'] = digital_metrics1['retweet_count']\n",
    "digital_page1['comments'] = digital_metrics1['reply_count']\n",
    "\n",
    "traditional_page1['likes'] = traditional_metrics1['like_count']\n",
    "traditional_page1['retweets'] = traditional_metrics1['retweet_count']\n",
    "traditional_page1['comments'] = traditional_metrics1['reply_count']\n",
    "\n",
    "del digital_page1['public_metrics']\n",
    "del traditional_page1['public_metrics']"
   ]
  },
  {
   "cell_type": "markdown",
   "id": "d8576192",
   "metadata": {},
   "source": [
    "### Creating pages 2-4 "
   ]
  },
  {
   "cell_type": "markdown",
   "id": "026ba77b",
   "metadata": {},
   "source": [
    "I created a function to make this process less messy. This function takes an input of a dictionary, and uses that data to create a new \"page\" of datapoints. This way I can quickly collect 400 points of data from each query."
   ]
  },
  {
   "cell_type": "code",
   "execution_count": 16,
   "id": "0e24248f",
   "metadata": {},
   "outputs": [],
   "source": [
    "def next_page(dictionary):\n",
    "    next_pg = pd.DataFrame(dictionary['data'])\n",
    "    next_metric = pd.DataFrame(list(next_pg['public_metrics']))\n",
    "    ##combining the dataframes\n",
    "    next_pg['likes'] = next_metric['like_count']\n",
    "    next_pg['retweets'] = next_metric['retweet_count']\n",
    "    next_pg['comments'] = next_metric['reply_count']\n",
    "    del next_pg['public_metrics']\n",
    "    \n",
    "    return next_pg"
   ]
  },
  {
   "cell_type": "code",
   "execution_count": 17,
   "id": "24c16ca7",
   "metadata": {},
   "outputs": [],
   "source": [
    "digital_token2 = url +'&next_token={}'.format(digital_dict['meta']['next_token'])\n",
    "digital_2 = requests.request(\"GET\",url = digital_token2, headers=header)\n",
    "digital_dict2 = json.loads(digital_2.text)\n",
    "\n",
    "digital_page2 = next_page(digital_dict2)"
   ]
  },
  {
   "cell_type": "code",
   "execution_count": 19,
   "id": "21dc6a73",
   "metadata": {},
   "outputs": [],
   "source": [
    "digital_token3 = url +'&next_token={}'.format(digital_dict2['meta']['next_token'])\n",
    "digital_3 = requests.request(\"GET\",url = digital_token3, headers=header)\n",
    "digital_dict3 = json.loads(digital_3.text)\n",
    "\n",
    "digital_page3 = next_page(digital_dict3)"
   ]
  },
  {
   "cell_type": "code",
   "execution_count": 20,
   "id": "808cb5e8",
   "metadata": {},
   "outputs": [],
   "source": [
    "digital_token4 = url +'&next_token={}'.format(digital_dict3['meta']['next_token'])\n",
    "digital_4 = requests.request(\"GET\",url = digital_token4, headers=header)\n",
    "digital_dict4 = json.loads(digital_4.text)\n",
    "\n",
    "digital_page4 = next_page(digital_dict3)"
   ]
  },
  {
   "cell_type": "code",
   "execution_count": 21,
   "id": "2661ad12",
   "metadata": {},
   "outputs": [],
   "source": [
    "tradition_token2 = url +'&next_token={}'.format(traditional_dict['meta']['next_token'])\n",
    "traditional_2 = requests.request(\"GET\",url = tradition_token2, headers=header)\n",
    "traditional_dict2 = json.loads(traditional_2.text)\n",
    "\n",
    "traditional_page2 = next_page(traditional_dict2)"
   ]
  },
  {
   "cell_type": "code",
   "execution_count": 23,
   "id": "d31a61e4",
   "metadata": {},
   "outputs": [],
   "source": [
    "tradition_token3 = url +'&next_token={}'.format(traditional_dict2['meta']['next_token'])\n",
    "traditional_3 = requests.request(\"GET\",url = tradition_token3, headers=header)\n",
    "traditional_dict3 = json.loads(traditional_3.text)\n",
    "\n",
    "traditional_page3 = next_page(traditional_dict3)"
   ]
  },
  {
   "cell_type": "code",
   "execution_count": 24,
   "id": "9189995f",
   "metadata": {},
   "outputs": [],
   "source": [
    "tradition_token4 = url +'&next_token={}'.format(traditional_dict3['meta']['next_token'])\n",
    "traditional_4 = requests.request(\"GET\",url = tradition_token4, headers=header)\n",
    "traditional_dict4 = json.loads(traditional_4.text)\n",
    "\n",
    "traditional_page4 = next_page(traditional_dict4)"
   ]
  },
  {
   "cell_type": "markdown",
   "id": "b91c9c56",
   "metadata": {},
   "source": [
    "### Combine Into 2 data frames"
   ]
  },
  {
   "cell_type": "code",
   "execution_count": 25,
   "id": "54805e23",
   "metadata": {},
   "outputs": [],
   "source": [
    "digital = pd.concat([digital_page1, digital_page2, digital_page3, digital_page4],ignore_index=True, sort=False)\n",
    "traditional = pd.concat([traditional_page1, traditional_page2, traditional_page3, traditional_page4], ignore_index=True, sort=False)"
   ]
  },
  {
   "cell_type": "code",
   "execution_count": 26,
   "id": "17efdf9c",
   "metadata": {},
   "outputs": [
    {
     "data": {
      "text/html": [
       "<div>\n",
       "<style scoped>\n",
       "    .dataframe tbody tr th:only-of-type {\n",
       "        vertical-align: middle;\n",
       "    }\n",
       "\n",
       "    .dataframe tbody tr th {\n",
       "        vertical-align: top;\n",
       "    }\n",
       "\n",
       "    .dataframe thead th {\n",
       "        text-align: right;\n",
       "    }\n",
       "</style>\n",
       "<table border=\"1\" class=\"dataframe\">\n",
       "  <thead>\n",
       "    <tr style=\"text-align: right;\">\n",
       "      <th></th>\n",
       "      <th>entities</th>\n",
       "      <th>created_at</th>\n",
       "      <th>id</th>\n",
       "      <th>text</th>\n",
       "      <th>author_id</th>\n",
       "      <th>likes</th>\n",
       "      <th>retweets</th>\n",
       "      <th>comments</th>\n",
       "    </tr>\n",
       "  </thead>\n",
       "  <tbody>\n",
       "    <tr>\n",
       "      <th>395</th>\n",
       "      <td>{'urls': [{'start': 48, 'end': 71, 'url': 'htt...</td>\n",
       "      <td>2021-12-09T03:15:33.000Z</td>\n",
       "      <td>1468781334411759617</td>\n",
       "      <td>We Are Not Soldiers II #DigitalArt #digital vi...</td>\n",
       "      <td>1252498426568327174</td>\n",
       "      <td>0</td>\n",
       "      <td>0</td>\n",
       "      <td>0</td>\n",
       "    </tr>\n",
       "    <tr>\n",
       "      <th>396</th>\n",
       "      <td>{'urls': [{'start': 169, 'end': 192, 'url': 'h...</td>\n",
       "      <td>2021-12-09T03:15:32.000Z</td>\n",
       "      <td>1468781330066329601</td>\n",
       "      <td>@MyTitsArt Super proud to be part of this proj...</td>\n",
       "      <td>1312835244404305920</td>\n",
       "      <td>0</td>\n",
       "      <td>0</td>\n",
       "      <td>0</td>\n",
       "    </tr>\n",
       "    <tr>\n",
       "      <th>397</th>\n",
       "      <td>{'urls': [{'start': 222, 'end': 245, 'url': 'h...</td>\n",
       "      <td>2021-12-09T03:15:31.000Z</td>\n",
       "      <td>1468781326123864066</td>\n",
       "      <td>Her at it again🤮🤮 she is 🔥💯 #NFTs #NFTart #NFT...</td>\n",
       "      <td>1165759727206326274</td>\n",
       "      <td>4</td>\n",
       "      <td>0</td>\n",
       "      <td>0</td>\n",
       "    </tr>\n",
       "    <tr>\n",
       "      <th>398</th>\n",
       "      <td>{'urls': [{'start': 273, 'end': 296, 'url': 'h...</td>\n",
       "      <td>2021-12-09T03:15:14.000Z</td>\n",
       "      <td>1468781256599085056</td>\n",
       "      <td>My latest #digital #painting of @ioangruffudd ...</td>\n",
       "      <td>219171867</td>\n",
       "      <td>2</td>\n",
       "      <td>0</td>\n",
       "      <td>1</td>\n",
       "    </tr>\n",
       "    <tr>\n",
       "      <th>399</th>\n",
       "      <td>{'urls': [{'start': 172, 'end': 195, 'url': 'h...</td>\n",
       "      <td>2021-12-09T03:15:13.000Z</td>\n",
       "      <td>1468781252417179649</td>\n",
       "      <td>@TrippyPunks_ Super proud to be part of this p...</td>\n",
       "      <td>1312835244404305920</td>\n",
       "      <td>0</td>\n",
       "      <td>0</td>\n",
       "      <td>0</td>\n",
       "    </tr>\n",
       "  </tbody>\n",
       "</table>\n",
       "</div>"
      ],
      "text/plain": [
       "                                              entities  \\\n",
       "395  {'urls': [{'start': 48, 'end': 71, 'url': 'htt...   \n",
       "396  {'urls': [{'start': 169, 'end': 192, 'url': 'h...   \n",
       "397  {'urls': [{'start': 222, 'end': 245, 'url': 'h...   \n",
       "398  {'urls': [{'start': 273, 'end': 296, 'url': 'h...   \n",
       "399  {'urls': [{'start': 172, 'end': 195, 'url': 'h...   \n",
       "\n",
       "                   created_at                   id  \\\n",
       "395  2021-12-09T03:15:33.000Z  1468781334411759617   \n",
       "396  2021-12-09T03:15:32.000Z  1468781330066329601   \n",
       "397  2021-12-09T03:15:31.000Z  1468781326123864066   \n",
       "398  2021-12-09T03:15:14.000Z  1468781256599085056   \n",
       "399  2021-12-09T03:15:13.000Z  1468781252417179649   \n",
       "\n",
       "                                                  text            author_id  \\\n",
       "395  We Are Not Soldiers II #DigitalArt #digital vi...  1252498426568327174   \n",
       "396  @MyTitsArt Super proud to be part of this proj...  1312835244404305920   \n",
       "397  Her at it again🤮🤮 she is 🔥💯 #NFTs #NFTart #NFT...  1165759727206326274   \n",
       "398  My latest #digital #painting of @ioangruffudd ...            219171867   \n",
       "399  @TrippyPunks_ Super proud to be part of this p...  1312835244404305920   \n",
       "\n",
       "     likes  retweets  comments  \n",
       "395      0         0         0  \n",
       "396      0         0         0  \n",
       "397      4         0         0  \n",
       "398      2         0         1  \n",
       "399      0         0         0  "
      ]
     },
     "execution_count": 26,
     "metadata": {},
     "output_type": "execute_result"
    }
   ],
   "source": [
    "digital.tail()"
   ]
  },
  {
   "cell_type": "code",
   "execution_count": 27,
   "id": "34798553",
   "metadata": {},
   "outputs": [
    {
     "data": {
      "text/html": [
       "<div>\n",
       "<style scoped>\n",
       "    .dataframe tbody tr th:only-of-type {\n",
       "        vertical-align: middle;\n",
       "    }\n",
       "\n",
       "    .dataframe tbody tr th {\n",
       "        vertical-align: top;\n",
       "    }\n",
       "\n",
       "    .dataframe thead th {\n",
       "        text-align: right;\n",
       "    }\n",
       "</style>\n",
       "<table border=\"1\" class=\"dataframe\">\n",
       "  <thead>\n",
       "    <tr style=\"text-align: right;\">\n",
       "      <th></th>\n",
       "      <th>entities</th>\n",
       "      <th>created_at</th>\n",
       "      <th>text</th>\n",
       "      <th>id</th>\n",
       "      <th>author_id</th>\n",
       "      <th>likes</th>\n",
       "      <th>retweets</th>\n",
       "      <th>comments</th>\n",
       "    </tr>\n",
       "  </thead>\n",
       "  <tbody>\n",
       "    <tr>\n",
       "      <th>395</th>\n",
       "      <td>{'mentions': [{'start': 15, 'end': 23, 'userna...</td>\n",
       "      <td>2021-12-08T21:44:16.000Z</td>\n",
       "      <td>commissi0n for @datcats (reddit)💚\\n#furry #fur...</td>\n",
       "      <td>1468697965044723712</td>\n",
       "      <td>1154088388426752001</td>\n",
       "      <td>4</td>\n",
       "      <td>2</td>\n",
       "      <td>1</td>\n",
       "    </tr>\n",
       "    <tr>\n",
       "      <th>396</th>\n",
       "      <td>{'mentions': [{'start': 181, 'end': 192, 'user...</td>\n",
       "      <td>2021-12-08T21:44:14.000Z</td>\n",
       "      <td>Check this out SimbaChicks Nft 🔥🔥\\njoin our di...</td>\n",
       "      <td>1468697956056502280</td>\n",
       "      <td>1468685639034015746</td>\n",
       "      <td>0</td>\n",
       "      <td>0</td>\n",
       "      <td>0</td>\n",
       "    </tr>\n",
       "    <tr>\n",
       "      <th>397</th>\n",
       "      <td>{'urls': [{'start': 18, 'end': 41, 'url': 'htt...</td>\n",
       "      <td>2021-12-08T21:44:11.000Z</td>\n",
       "      <td>Cappufuckinccino. https://t.co/LiffX0VsII #art...</td>\n",
       "      <td>1468697942349561861</td>\n",
       "      <td>292619181</td>\n",
       "      <td>0</td>\n",
       "      <td>0</td>\n",
       "      <td>0</td>\n",
       "    </tr>\n",
       "    <tr>\n",
       "      <th>398</th>\n",
       "      <td>{'urls': [{'start': 262, 'end': 285, 'url': 'h...</td>\n",
       "      <td>2021-12-08T21:44:09.000Z</td>\n",
       "      <td>Made a bit of progress on my draw this in your...</td>\n",
       "      <td>1468697934405550080</td>\n",
       "      <td>198144736</td>\n",
       "      <td>3</td>\n",
       "      <td>0</td>\n",
       "      <td>0</td>\n",
       "    </tr>\n",
       "    <tr>\n",
       "      <th>399</th>\n",
       "      <td>{'urls': [{'start': 89, 'end': 112, 'url': 'ht...</td>\n",
       "      <td>2021-12-08T21:44:06.000Z</td>\n",
       "      <td>big uncomfortable smile\\n-\\n#furryoc #original...</td>\n",
       "      <td>1468697922887897099</td>\n",
       "      <td>1282023970498318337</td>\n",
       "      <td>60</td>\n",
       "      <td>18</td>\n",
       "      <td>3</td>\n",
       "    </tr>\n",
       "  </tbody>\n",
       "</table>\n",
       "</div>"
      ],
      "text/plain": [
       "                                              entities  \\\n",
       "395  {'mentions': [{'start': 15, 'end': 23, 'userna...   \n",
       "396  {'mentions': [{'start': 181, 'end': 192, 'user...   \n",
       "397  {'urls': [{'start': 18, 'end': 41, 'url': 'htt...   \n",
       "398  {'urls': [{'start': 262, 'end': 285, 'url': 'h...   \n",
       "399  {'urls': [{'start': 89, 'end': 112, 'url': 'ht...   \n",
       "\n",
       "                   created_at  \\\n",
       "395  2021-12-08T21:44:16.000Z   \n",
       "396  2021-12-08T21:44:14.000Z   \n",
       "397  2021-12-08T21:44:11.000Z   \n",
       "398  2021-12-08T21:44:09.000Z   \n",
       "399  2021-12-08T21:44:06.000Z   \n",
       "\n",
       "                                                  text                   id  \\\n",
       "395  commissi0n for @datcats (reddit)💚\\n#furry #fur...  1468697965044723712   \n",
       "396  Check this out SimbaChicks Nft 🔥🔥\\njoin our di...  1468697956056502280   \n",
       "397  Cappufuckinccino. https://t.co/LiffX0VsII #art...  1468697942349561861   \n",
       "398  Made a bit of progress on my draw this in your...  1468697934405550080   \n",
       "399  big uncomfortable smile\\n-\\n#furryoc #original...  1468697922887897099   \n",
       "\n",
       "               author_id  likes  retweets  comments  \n",
       "395  1154088388426752001      4         2         1  \n",
       "396  1468685639034015746      0         0         0  \n",
       "397            292619181      0         0         0  \n",
       "398            198144736      3         0         0  \n",
       "399  1282023970498318337     60        18         3  "
      ]
     },
     "execution_count": 27,
     "metadata": {},
     "output_type": "execute_result"
    }
   ],
   "source": [
    "traditional.tail()"
   ]
  },
  {
   "cell_type": "markdown",
   "id": "ebe40406",
   "metadata": {},
   "source": [
    "### Saving as a CSV"
   ]
  },
  {
   "cell_type": "code",
   "execution_count": 35,
   "id": "9ebf6b6a",
   "metadata": {},
   "outputs": [],
   "source": [
    "digital.to_csv(r'C:\\Users\\glori\\Data in EMAT\\digital.csv')\n",
    "traditional.to_csv(r'C:\\Users\\glori\\Data in EMAT\\traditional.csv')"
   ]
  },
  {
   "cell_type": "code",
   "execution_count": 19,
   "id": "c144064e",
   "metadata": {},
   "outputs": [],
   "source": [
    "digital = pd.read_csv ('digital.csv')\n",
    "traditional = pd.read_csv ('traditional.csv')"
   ]
  },
  {
   "cell_type": "markdown",
   "id": "01dfcf9d",
   "metadata": {},
   "source": [
    "### Charting the Data"
   ]
  },
  {
   "cell_type": "markdown",
   "id": "184e817c",
   "metadata": {},
   "source": [
    "Once I had the data collected and organized I created bar charts to have a visual representation of each comparison. The _red_ bar in each chart indecates __traditional art__ and the _blue_ bar indicates __digital art__."
   ]
  },
  {
   "cell_type": "code",
   "execution_count": 20,
   "id": "1ef78134",
   "metadata": {
    "scrolled": true
   },
   "outputs": [
    {
     "data": {
      "image/png": "[encoded data removed]",
      "text/plain": [
       "<Figure size 720x720 with 4 Axes>"
      ]
     },
     "metadata": {
      "needs_background": "light"
     },
     "output_type": "display_data"
    }
   ],
   "source": [
    "fig0, ax0 = plt.subplots(2, 2, figsize = (10,10))\n",
    "ax0[0, 0].hist(digital['likes'], bins = 10,color = 'blue',alpha = .5)\n",
    "ax0[0, 0].hist(traditional['likes'], bins = 10, color = 'red', alpha = .5)\n",
    "ax0[0, 0].set_xlabel(\"Likes\")\n",
    "\n",
    "ax0[0, 1].hist(digital['comments'], bins = 5,color = 'blue',alpha = .5)\n",
    "ax0[0, 1].hist(traditional['comments'], bins = 5, color = 'red', alpha = .5)\n",
    "ax0[0, 1].set_xlabel(\"comments\")\n",
    "\n",
    "ax0[1, 0].hist(digital['retweets'], bins = 15,color = 'blue',alpha = .5)\n",
    "ax0[1, 0].hist(traditional['retweets'], bins = 15, color = 'red', alpha = .5)\n",
    "ax0[1, 0].set_xlabel(\"retweets\")\n",
    "plt.show()"
   ]
  },
  {
   "cell_type": "markdown",
   "id": "655ba5fd",
   "metadata": {},
   "source": [
    "__After reviewing the bar charts I chose to try looking at another type of chart to get a better visual of the difference between the two datasets__"
   ]
  },
  {
   "cell_type": "code",
   "execution_count": 21,
   "id": "d2820c56",
   "metadata": {},
   "outputs": [
    {
     "data": {
      "image/png": "[encoded data removed]",
      "text/plain": [
       "<Figure size 720x720 with 1 Axes>"
      ]
     },
     "metadata": {
      "needs_background": "light"
     },
     "output_type": "display_data"
    }
   ],
   "source": [
    "fig2, ax2 =plt.subplots(1,1, figsize = (10,10))\n",
    "\n",
    "#create a jitter in order to show if any overlap\n",
    "d_offset = np.random.randn(len(digital.index)) * .006\n",
    "t_offset = np.random.randn(len(traditional.index)) * .006\n",
    "d_x = [-.02] * len(digital.index)\n",
    "t_x = [.02] * len(traditional.index)\n",
    "d_jitter = d_x + d_offset\n",
    "t_jitter = t_x + t_offset\n",
    "\n",
    "ax2.scatter(d_jitter, digital['likes'], color = \"g\", alpha = .5)\n",
    "ax2.scatter(t_jitter, traditional['likes'], color = \"k\", alpha = .5)\n",
    "ax2.set_xlim(-.05,.05)\n",
    "\n",
    "ax2.set_xticks([-.02,.02])\n",
    "ax2.set_xticklabels(['Digital','Traditional'])\n",
    "ax2.set_ylabel(\"Likes\")\n",
    "\n",
    "plt.show()"
   ]
  },
  {
   "cell_type": "code",
   "execution_count": 22,
   "id": "a6c50dc9",
   "metadata": {},
   "outputs": [
    {
     "data": {
      "image/png": "[encoded data removed]",
      "text/plain": [
       "<Figure size 720x720 with 1 Axes>"
      ]
     },
     "metadata": {
      "needs_background": "light"
     },
     "output_type": "display_data"
    }
   ],
   "source": [
    "fig4, ax4 =plt.subplots(1,1, figsize = (10,10))\n",
    "\n",
    "#create a jitter in order to show if any overlap\n",
    "d_offset = np.random.randn(len(digital.index)) * .006\n",
    "t_offset = np.random.randn(len(traditional.index)) * .006\n",
    "d_x = [-.02] * len(digital.index)\n",
    "t_x = [.02] * len(traditional.index)\n",
    "d_jitter = d_x + d_offset\n",
    "t_jitter = t_x + t_offset\n",
    "\n",
    "ax4.scatter(d_jitter, digital['retweets'], color = \"g\", alpha = .5)\n",
    "ax4.scatter(t_jitter, traditional['retweets'], color = \"k\", alpha = .5)\n",
    "ax4.set_xlim(-.05,.05)\n",
    "\n",
    "ax4.set_xticks([-.02,.02])\n",
    "ax4.set_xticklabels(['Digital','Traditional'])\n",
    "ax4.set_ylabel(\"retweets\")\n",
    "\n",
    "plt.show()"
   ]
  },
  {
   "cell_type": "code",
   "execution_count": 23,
   "id": "69132e49",
   "metadata": {},
   "outputs": [
    {
     "data": {
      "image/png": "[encoded data removed]",
      "text/plain": [
       "<Figure size 720x720 with 1 Axes>"
      ]
     },
     "metadata": {
      "needs_background": "light"
     },
     "output_type": "display_data"
    }
   ],
   "source": [
    "fig5, ax5 =plt.subplots(1,1, figsize = (10,10))\n",
    "\n",
    "#create a jitter in order to show if any overlap\n",
    "d_offset = np.random.randn(len(digital.index)) * .006\n",
    "t_offset = np.random.randn(len(traditional.index)) * .006\n",
    "d_x = [-.02] * len(digital.index)\n",
    "t_x = [.02] * len(traditional.index)\n",
    "d_jitter = d_x + d_offset\n",
    "t_jitter = t_x + t_offset\n",
    "\n",
    "ax5.scatter(d_jitter, digital['comments'], color = \"g\", alpha = .5)\n",
    "ax5.scatter(t_jitter, traditional['comments'], color = \"k\", alpha = .5)\n",
    "ax5.set_xlim(-.05,.05)\n",
    "\n",
    "ax5.set_xticks([-.02,.02])\n",
    "ax5.set_xticklabels(['Digital','Traditional'])\n",
    "ax5.set_ylabel(\"comments\")\n",
    "\n",
    "plt.show()"
   ]
  },
  {
   "cell_type": "markdown",
   "id": "5e154479",
   "metadata": {},
   "source": [
    "### Reviewing p-value of the data"
   ]
  },
  {
   "cell_type": "markdown",
   "id": "d6e51544",
   "metadata": {},
   "source": [
    "For all three p-values I can reject the null hypothesis. these values are all significant. However the p-value for the likes data is the most significant as it is the furthest from 1. \n",
    "\n",
    "It is also important to note that the outliers such as the one point with over 60 likes on the first dot plot can change the p-value."
   ]
  },
  {
   "cell_type": "code",
   "execution_count": 24,
   "id": "7f57c24a",
   "metadata": {},
   "outputs": [
    {
     "data": {
      "text/plain": [
       "Ttest_indResult(statistic=-6.4292170615685995, pvalue=2.2064201285047585e-10)"
      ]
     },
     "execution_count": 24,
     "metadata": {},
     "output_type": "execute_result"
    }
   ],
   "source": [
    "stats.ttest_ind(digital['likes'],traditional['likes'])"
   ]
  },
  {
   "cell_type": "code",
   "execution_count": 25,
   "id": "348231ab",
   "metadata": {},
   "outputs": [
    {
     "data": {
      "text/plain": [
       "Ttest_indResult(statistic=-2.0995690800418703, pvalue=0.03608026207692304)"
      ]
     },
     "execution_count": 25,
     "metadata": {},
     "output_type": "execute_result"
    }
   ],
   "source": [
    "stats.ttest_ind(digital['comments'],traditional['comments'])"
   ]
  },
  {
   "cell_type": "code",
   "execution_count": 26,
   "id": "b0b000e1",
   "metadata": {
    "scrolled": true
   },
   "outputs": [
    {
     "data": {
      "text/plain": [
       "Ttest_indResult(statistic=-3.693348916970628, pvalue=0.00023640052400642012)"
      ]
     },
     "execution_count": 26,
     "metadata": {},
     "output_type": "execute_result"
    }
   ],
   "source": [
    "stats.ttest_ind(digital['retweets'],traditional['retweets'])"
   ]
  },
  {
   "cell_type": "markdown",
   "id": "096539c5",
   "metadata": {},
   "source": [
    "### Conclusion"
   ]
  },
  {
   "cell_type": "markdown",
   "id": "bd793ec8",
   "metadata": {},
   "source": [
    "After completing my analysis I found that my hypothesis was incorrect. I found this surprising and intriguing. Traditional art, at least from the dataset I collected, gets more interactions then digital art on twitter. \n",
    "\n",
    "There are a few reasons this may be the case. The biggest variable I can deduce from what I collected is the amount of time between the posts being published and the data being pulled. All the data I pulled was moments after the posts were published. So while the verdict for this data set is that traditional art gets more interaction on twitter, this may change the longer the posts are on the platform. In other words just because the posts get more interaction at first does not mean they get the most interaction over all.\n",
    "\n",
    "Another thing to consider is the use of hashtags. Although the majority of posts do use hashtags to properly describe their post this is not always the case, I have personally seen posts tagged as \"traditional art\" that were in fact mixed media, or that had a traditional feel on a digital piece.\n",
    "\n",
    "Lastly I want to reiterate that this analysis was done with only 400 lines of data per query. This is a major limitation that should not be overlooked. With that being said for the purposes of this analysis we can deduce that traditional art has more of a initial reaction on twitter in comparison the digital art."
   ]
  }
 ],
 "metadata": {
  "kernelspec": {
   "display_name": "Python 3 (ipykernel)",
   "language": "python",
   "name": "python3"
  },
  "language_info": {
   "codemirror_mode": {
    "name": "ipython",
    "version": 3
   },
   "file_extension": ".py",
   "mimetype": "text/x-python",
   "name": "python",
   "nbconvert_exporter": "python",
   "pygments_lexer": "ipython3",
   "version": "3.9.6"
  }
 },
 "nbformat": 4,
 "nbformat_minor": 5
}
