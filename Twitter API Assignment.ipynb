{
 "cells": [
  {
   "cell_type": "markdown",
   "id": "9ab5c1cc",
   "metadata": {},
   "source": [
    "# Twitter API\n",
    "By: Gloria Sladek"
   ]
  },
  {
   "cell_type": "markdown",
   "id": "1ce43716",
   "metadata": {},
   "source": [
    "Using Twitter Data I hope to answer the question of how artists are using twitter as a platform. More specifically I would like to identify the types of art being posted: Ie traditional vs. Digital."
   ]
  },
  {
   "cell_type": "markdown",
   "id": "18f7462c",
   "metadata": {},
   "source": [
    "## Gathering Data"
   ]
  },
  {
   "cell_type": "code",
   "execution_count": 1,
   "id": "63dfbb9b",
   "metadata": {},
   "outputs": [],
   "source": [
    "import requests\n",
    "import pandas as pd\n",
    "import json\n",
    "import urllib"
   ]
  },
  {
   "cell_type": "markdown",
   "id": "4c370b32",
   "metadata": {},
   "source": [
    "I imported the different libraries I would be using.\n",
    "\n",
    "Then I called in my _twitter API_ text files as _csv_ and assigned them to a variable called __bearer_token.__ \n",
    "\n",
    "    The bearer token is used to access the twitter API"
   ]
  },
  {
   "cell_type": "code",
   "execution_count": 2,
   "id": "a493c21d",
   "metadata": {},
   "outputs": [],
   "source": [
    "bearer_token = pd.read_csv(\"twitterApp.txt\", header = 0)"
   ]
  },
  {
   "cell_type": "markdown",
   "id": "c072392f",
   "metadata": {},
   "source": [
    "I isolated the Bearer Token from its label using _iloc_ then formated a line that included the header of Authorization and 'Bearer' followed by the token value."
   ]
  },
  {
   "cell_type": "code",
   "execution_count": null,
   "id": "8825c414",
   "metadata": {},
   "outputs": [],
   "source": [
    "bearer_token['Bearer Token'].iloc[0]"
   ]
  },
  {
   "cell_type": "code",
   "execution_count": 4,
   "id": "229ee169",
   "metadata": {},
   "outputs": [],
   "source": [
    "header = {'Authorization' : 'Bearer {}'.format(bearer_token['Bearer Token'].iloc[0])}"
   ]
  },
  {
   "cell_type": "markdown",
   "id": "8713fad2",
   "metadata": {},
   "source": [
    "I then set the endpoint url to a variable. This will allow me to use a query to search twitter for specified content."
   ]
  },
  {
   "cell_type": "code",
   "execution_count": 5,
   "id": "7c63c9db",
   "metadata": {},
   "outputs": [],
   "source": [
    "endpoint_url = 'https://api.twitter.com/2/tweets/search/recent'"
   ]
  },
  {
   "cell_type": "markdown",
   "id": "76a757c7",
   "metadata": {},
   "source": [
    "## Creating a Query"
   ]
  },
  {
   "cell_type": "markdown",
   "id": "da5d1121",
   "metadata": {},
   "source": [
    "Next I built my query and assigned it to a variable. The function _urllib.parse.quote_ takes the search that I put in quotes and replaces the symbols with _%xx_.\n",
    "        \n",
    "        The query I chose is ment to identify tweets with one or more of the hastags listed. I added #art AND #digitalart \n",
    "        rather than OR because in my experiece #art is used alot out of the context of what I am looking for."
   ]
  },
  {
   "cell_type": "code",
   "execution_count": 6,
   "id": "eaadd4f6",
   "metadata": {},
   "outputs": [],
   "source": [
    "query = urllib.parse.quote('( #art #digitalart OR #digitalart OR #traditionalart OR #myart OR #Inktober) lang:en')"
   ]
  },
  {
   "cell_type": "markdown",
   "id": "60883795",
   "metadata": {},
   "source": [
    "I created a variable to hold the tweet fields I wanted to get back from my query. Then I added my query to the end_point url defined earlier.\n",
    "\n",
    "        Author_id: provides the id of the __user__ who posted\n",
    "        id: provides the __tweet id__\n",
    "        text: provides the __text__ of the tweet\n",
    "        public_metrics: provides the __retweets, likes_count, reply_count,__ and __quote_count__.\n",
    "        created_at: proved the __date__ on which the post was made\n",
    "        \n",
    "I added __entities__ as well, which contains __hashtags__. This field will be useful when answering questions on how an artist is using twitter. For example, I could use this information to check if posts with the #digitalart got more reactions then #traditionalart."
   ]
  },
  {
   "cell_type": "code",
   "execution_count": 7,
   "id": "fe3c63ca",
   "metadata": {},
   "outputs": [],
   "source": [
    "tweet_fields = 'author_id,id,text,public_metrics,created_at,entities'"
   ]
  },
  {
   "cell_type": "markdown",
   "id": "147ac3ad",
   "metadata": {},
   "source": [
    "I added the expansion \"author_id\" and added it to my query as _expansions_ containing \"username\"."
   ]
  },
  {
   "cell_type": "code",
   "execution_count": 8,
   "id": "113eaec7",
   "metadata": {},
   "outputs": [],
   "source": [
    "expansions = 'author_id'"
   ]
  },
  {
   "cell_type": "code",
   "execution_count": 43,
   "id": "a52277fb",
   "metadata": {},
   "outputs": [],
   "source": [
    "url = endpoint_url + '?query={}&tweet.fields={}&expansions={}&user.fields={}&max_results=100'.format(query,tweet_fields,expansions,\"username\")"
   ]
  },
  {
   "cell_type": "markdown",
   "id": "5d83137d",
   "metadata": {},
   "source": [
    "## Creating Dataframes"
   ]
  },
  {
   "cell_type": "markdown",
   "id": "751f1531",
   "metadata": {},
   "source": [
    "Using __resquest__ from the _requests_ library i requested the data from the url I defined with headers and assigned that data to a variable.\n",
    "    I then used __loads__ from the _json_ library to create a ___dictionary___ out of the text file."
   ]
  },
  {
   "cell_type": "code",
   "execution_count": 11,
   "id": "35c60d78",
   "metadata": {},
   "outputs": [],
   "source": [
    "response_1 = requests.request(\"GET\", url, headers=header)"
   ]
  },
  {
   "cell_type": "code",
   "execution_count": 12,
   "id": "15c2347a",
   "metadata": {},
   "outputs": [],
   "source": [
    "response_1_dict = json.loads(response_1.text)"
   ]
  },
  {
   "cell_type": "markdown",
   "id": "314ed270",
   "metadata": {},
   "source": [
    "I created a __three dataframes__, one that held the original data, one that held the user data, and one that held the public metrics data"
   ]
  },
  {
   "cell_type": "code",
   "execution_count": 13,
   "id": "da011511",
   "metadata": {},
   "outputs": [],
   "source": [
    "df = pd.DataFrame(response_1_dict['data'])"
   ]
  },
  {
   "cell_type": "code",
   "execution_count": 14,
   "id": "9bd962d9",
   "metadata": {},
   "outputs": [],
   "source": [
    "user1 = pd.DataFrame(response_1_dict['includes']['users'])"
   ]
  },
  {
   "cell_type": "code",
   "execution_count": 15,
   "id": "b3dde41b",
   "metadata": {},
   "outputs": [],
   "source": [
    "metrics = pd.DataFrame(list(df['public_metrics']))"
   ]
  },
  {
   "cell_type": "markdown",
   "id": "adf10c3a",
   "metadata": {},
   "source": [
    "I then added the elements I wanted from each dictionary onto my primary dictionary. I did this with each of the separate \"pages\" of data."
   ]
  },
  {
   "cell_type": "code",
   "execution_count": 16,
   "id": "e5c24f04",
   "metadata": {},
   "outputs": [],
   "source": [
    "df['name'] = user1['name']\n",
    "df['username'] = user1['username']\n",
    "df['likes'] = metrics['like_count']\n",
    "df['retweets'] = metrics['retweet_count']\n",
    "df['replys'] = metrics['reply_count']"
   ]
  },
  {
   "cell_type": "markdown",
   "id": "d1800b7c",
   "metadata": {},
   "source": [
    "Because Each dataset maxed out at 100, I had to access the next set or \"page\" of data. this is done with the _next_token_\n",
    "    in order to access this I identified the keys of the dictionary and used the 'next_token' key from the 'meta' key. "
   ]
  },
  {
   "cell_type": "code",
   "execution_count": 17,
   "id": "5b08bb3c",
   "metadata": {
    "scrolled": true
   },
   "outputs": [
    {
     "data": {
      "text/plain": [
       "dict_keys(['data', 'includes', 'meta'])"
      ]
     },
     "execution_count": 17,
     "metadata": {},
     "output_type": "execute_result"
    }
   ],
   "source": [
    "response_1_dict.keys()"
   ]
  },
  {
   "cell_type": "code",
   "execution_count": null,
   "id": "e7ad3690",
   "metadata": {
    "scrolled": true
   },
   "outputs": [],
   "source": [
    "response_1_dict['meta']['next_token']"
   ]
  },
  {
   "cell_type": "markdown",
   "id": "712a6dea",
   "metadata": {},
   "source": [
    "To access the more data:\n",
    "\n",
    "    - I added the next token to my url and assigned it to a variable \n",
    "    - I then repeated the process above to create a new dictionary of data\n",
    "    - I repeated this process 2 more times to create 4 different dictionaries\n",
    "    "
   ]
  },
  {
   "cell_type": "code",
   "execution_count": 19,
   "id": "c40aaf97",
   "metadata": {},
   "outputs": [],
   "source": [
    "page2 = url +'&next_token={}'.format(response_1_dict['meta']['next_token'])"
   ]
  },
  {
   "cell_type": "code",
   "execution_count": 20,
   "id": "65c87bf0",
   "metadata": {},
   "outputs": [],
   "source": [
    "response_2 = requests.request(\"GET\",url = page2, headers=header)"
   ]
  },
  {
   "cell_type": "code",
   "execution_count": 21,
   "id": "19640413",
   "metadata": {},
   "outputs": [],
   "source": [
    "response_2_dict = json.loads(response_2.text)"
   ]
  },
  {
   "cell_type": "code",
   "execution_count": 22,
   "id": "41761753",
   "metadata": {},
   "outputs": [],
   "source": [
    "df2 = pd.DataFrame(response_2_dict['data'])\n",
    "user2 = pd.DataFrame(response_2_dict['includes']['users'])\n",
    "metrics2 = pd.DataFrame(list(df2['public_metrics']))\n",
    "ht2 = pd.DataFrame(list(df2['entities']))"
   ]
  },
  {
   "cell_type": "code",
   "execution_count": 23,
   "id": "a89570d5",
   "metadata": {},
   "outputs": [],
   "source": [
    "df2['name'] = user2['name']\n",
    "df2['username'] = user2['username']\n",
    "df2['likes'] = metrics2['like_count']\n",
    "df2['retweets'] = metrics2['retweet_count']\n",
    "df2['replys'] = metrics2['reply_count']"
   ]
  },
  {
   "cell_type": "code",
   "execution_count": 24,
   "id": "2ffe49fe",
   "metadata": {},
   "outputs": [],
   "source": [
    "page3 = url +'&next_token={}'.format(response_2_dict['meta']['next_token'])"
   ]
  },
  {
   "cell_type": "code",
   "execution_count": 25,
   "id": "699cb72e",
   "metadata": {},
   "outputs": [],
   "source": [
    "response_3 = requests.request(\"GET\",url = page3, headers=header)"
   ]
  },
  {
   "cell_type": "code",
   "execution_count": 26,
   "id": "52396dbc",
   "metadata": {},
   "outputs": [],
   "source": [
    "response_3_dict = json.loads(response_3.text)"
   ]
  },
  {
   "cell_type": "code",
   "execution_count": 27,
   "id": "5d648ded",
   "metadata": {},
   "outputs": [],
   "source": [
    "df3 = pd.DataFrame(response_3_dict['data'])\n",
    "user3 = pd.DataFrame(response_3_dict['includes']['users'])\n",
    "metrics3 = pd.DataFrame(list(df3['public_metrics']))"
   ]
  },
  {
   "cell_type": "code",
   "execution_count": 28,
   "id": "b48ad85d",
   "metadata": {},
   "outputs": [],
   "source": [
    "df3['name'] = user3['name']\n",
    "df3['username'] = user3['username']\n",
    "df3['likes'] = metrics3['like_count']\n",
    "df3['retweets'] = metrics3['retweet_count']\n",
    "df3['replys'] = metrics3['reply_count']"
   ]
  },
  {
   "cell_type": "code",
   "execution_count": 29,
   "id": "173ab0f7",
   "metadata": {},
   "outputs": [],
   "source": [
    "page4 = url +'&next_token={}'.format(response_3_dict['meta']['next_token'])"
   ]
  },
  {
   "cell_type": "code",
   "execution_count": 30,
   "id": "58aeef48",
   "metadata": {},
   "outputs": [],
   "source": [
    "response_4 = requests.request(\"GET\",url = page4, headers=header)"
   ]
  },
  {
   "cell_type": "code",
   "execution_count": 31,
   "id": "e76503b6",
   "metadata": {},
   "outputs": [],
   "source": [
    "response_4_dict = json.loads(response_4.text)"
   ]
  },
  {
   "cell_type": "code",
   "execution_count": 32,
   "id": "427ec964",
   "metadata": {},
   "outputs": [],
   "source": [
    "df4 = pd.DataFrame(response_4_dict['data'])\n",
    "user4 = pd.DataFrame(response_4_dict['includes']['users'])\n",
    "metrics4 = pd.DataFrame(list(df4['public_metrics']))\n",
    "ht4 = pd.DataFrame(list(df4['entities']))"
   ]
  },
  {
   "cell_type": "code",
   "execution_count": 33,
   "id": "b04f5dea",
   "metadata": {},
   "outputs": [],
   "source": [
    "df4['name'] = user4['name']\n",
    "df4['username'] = user4['username']\n",
    "df4['likes'] = metrics4['like_count']\n",
    "df4['retweets'] = metrics4['retweet_count']\n",
    "df4['replys'] = metrics4['reply_count']"
   ]
  },
  {
   "cell_type": "markdown",
   "id": "6bea8c3c",
   "metadata": {},
   "source": [
    "10. I __combined__ the four dictionaries together to create a _400 row_ dataframe by using the __DataFrame__ function from the _pandas library_"
   ]
  },
  {
   "cell_type": "markdown",
   "id": "fbd29706",
   "metadata": {},
   "source": [
    "## Combining Data Frames"
   ]
  },
  {
   "cell_type": "code",
   "execution_count": 34,
   "id": "5f7517d5",
   "metadata": {},
   "outputs": [],
   "source": [
    "tweets = pd.concat([df, df2, df3, df4])"
   ]
  },
  {
   "cell_type": "markdown",
   "id": "6888a343",
   "metadata": {},
   "source": [
    "I delete the 'public_metrics' column from my master Data Frame to avoid duplication. "
   ]
  },
  {
   "cell_type": "code",
   "execution_count": 35,
   "id": "1203e88f",
   "metadata": {},
   "outputs": [],
   "source": [
    "del tweets['public_metrics']"
   ]
  },
  {
   "cell_type": "code",
   "execution_count": 36,
   "id": "0757c111",
   "metadata": {},
   "outputs": [
    {
     "data": {
      "text/plain": [
       "400"
      ]
     },
     "execution_count": 36,
     "metadata": {},
     "output_type": "execute_result"
    }
   ],
   "source": [
    "len(tweets.index) "
   ]
  },
  {
   "cell_type": "markdown",
   "id": "f2fa5981",
   "metadata": {},
   "source": [
    "I used the __concat__ function from the _pandas_ library to combine all my previous Data Frames and make one master data frame I called \"tweets\". \"tweets\" was 400 rows long.\n",
    "\n",
    "Then I used the __head__ and __tail__ functions to display the first and last 10 rows in my master dataframe."
   ]
  },
  {
   "cell_type": "code",
   "execution_count": 37,
   "id": "d610d3d2",
   "metadata": {},
   "outputs": [
    {
     "data": {
      "text/html": [
       "<div>\n",
       "<style scoped>\n",
       "    .dataframe tbody tr th:only-of-type {\n",
       "        vertical-align: middle;\n",
       "    }\n",
       "\n",
       "    .dataframe tbody tr th {\n",
       "        vertical-align: top;\n",
       "    }\n",
       "\n",
       "    .dataframe thead th {\n",
       "        text-align: right;\n",
       "    }\n",
       "</style>\n",
       "<table border=\"1\" class=\"dataframe\">\n",
       "  <thead>\n",
       "    <tr style=\"text-align: right;\">\n",
       "      <th></th>\n",
       "      <th>author_id</th>\n",
       "      <th>entities</th>\n",
       "      <th>id</th>\n",
       "      <th>text</th>\n",
       "      <th>created_at</th>\n",
       "      <th>name</th>\n",
       "      <th>username</th>\n",
       "      <th>likes</th>\n",
       "      <th>retweets</th>\n",
       "      <th>replys</th>\n",
       "    </tr>\n",
       "  </thead>\n",
       "  <tbody>\n",
       "    <tr>\n",
       "      <th>0</th>\n",
       "      <td>1439500749239504897</td>\n",
       "      <td>{'hashtags': [{'start': 153, 'end': 157, 'tag'...</td>\n",
       "      <td>1450657432359694340</td>\n",
       "      <td>Hello everyone!\\n\\nOur white list is now open,...</td>\n",
       "      <td>2021-10-20T02:57:38.000Z</td>\n",
       "      <td>fiveliondanceclub</td>\n",
       "      <td>fivelionsdc</td>\n",
       "      <td>0</td>\n",
       "      <td>0</td>\n",
       "      <td>0</td>\n",
       "    </tr>\n",
       "    <tr>\n",
       "      <th>1</th>\n",
       "      <td>1257491531491139587</td>\n",
       "      <td>{'hashtags': [{'start': 67, 'end': 78, 'tag': ...</td>\n",
       "      <td>1450657426181660672</td>\n",
       "      <td>RT @Cubebrush: Depth sketching with Mental Can...</td>\n",
       "      <td>2021-10-20T02:57:36.000Z</td>\n",
       "      <td>Mr. Pineapple</td>\n",
       "      <td>MrPineapple7u7</td>\n",
       "      <td>0</td>\n",
       "      <td>931</td>\n",
       "      <td>0</td>\n",
       "    </tr>\n",
       "    <tr>\n",
       "      <th>2</th>\n",
       "      <td>1002180392361906177</td>\n",
       "      <td>{'hashtags': [{'start': 37, 'end': 48, 'tag': ...</td>\n",
       "      <td>1450657415347777539</td>\n",
       "      <td>RT @SifaSeven: The first four in the #mooglejo...</td>\n",
       "      <td>2021-10-20T02:57:34.000Z</td>\n",
       "      <td>SifaSeven</td>\n",
       "      <td>SifaSeven</td>\n",
       "      <td>0</td>\n",
       "      <td>3</td>\n",
       "      <td>0</td>\n",
       "    </tr>\n",
       "    <tr>\n",
       "      <th>3</th>\n",
       "      <td>1011160246973292544</td>\n",
       "      <td>{'hashtags': [{'start': 124, 'end': 134, 'tag'...</td>\n",
       "      <td>1450657408292843520</td>\n",
       "      <td>RT @KyuYongEom: Hahaha. I design clothes of va...</td>\n",
       "      <td>2021-10-20T02:57:32.000Z</td>\n",
       "      <td>Hepkept</td>\n",
       "      <td>ArnoldKang7</td>\n",
       "      <td>0</td>\n",
       "      <td>33</td>\n",
       "      <td>0</td>\n",
       "    </tr>\n",
       "    <tr>\n",
       "      <th>4</th>\n",
       "      <td>1108083423049105409</td>\n",
       "      <td>{'hashtags': [{'start': 32, 'end': 43, 'tag': ...</td>\n",
       "      <td>1450657403331096576</td>\n",
       "      <td>RT @mcflarey: alright listen.. \\n#digitalart #...</td>\n",
       "      <td>2021-10-20T02:57:31.000Z</td>\n",
       "      <td>🔞 BlackBerry~♪</td>\n",
       "      <td>berry_blk</td>\n",
       "      <td>0</td>\n",
       "      <td>111</td>\n",
       "      <td>0</td>\n",
       "    </tr>\n",
       "    <tr>\n",
       "      <th>5</th>\n",
       "      <td>1713751680</td>\n",
       "      <td>{'hashtags': [{'start': 15, 'end': 24, 'tag': ...</td>\n",
       "      <td>1450657398901952520</td>\n",
       "      <td>RT @Asmerrith: #Inktober for this one I drew @...</td>\n",
       "      <td>2021-10-20T02:57:30.000Z</td>\n",
       "      <td>RYAN 🎃</td>\n",
       "      <td>RatherMalicious</td>\n",
       "      <td>0</td>\n",
       "      <td>5</td>\n",
       "      <td>0</td>\n",
       "    </tr>\n",
       "    <tr>\n",
       "      <th>6</th>\n",
       "      <td>1246921421315547146</td>\n",
       "      <td>{'hashtags': [{'start': 39, 'end': 49, 'tag': ...</td>\n",
       "      <td>1450657388793671680</td>\n",
       "      <td>RT @scrapchallenge1: I fixed his eyes. #GoodOm...</td>\n",
       "      <td>2021-10-20T02:57:28.000Z</td>\n",
       "      <td>Manda Lynn</td>\n",
       "      <td>MandaLynn5304</td>\n",
       "      <td>0</td>\n",
       "      <td>41</td>\n",
       "      <td>0</td>\n",
       "    </tr>\n",
       "    <tr>\n",
       "      <th>7</th>\n",
       "      <td>578634352</td>\n",
       "      <td>{'hashtags': [{'start': 40, 'end': 53, 'tag': ...</td>\n",
       "      <td>1450657373857615876</td>\n",
       "      <td>Day 19: Loop\\nEh not the greatest pic...\\n#ink...</td>\n",
       "      <td>2021-10-20T02:57:24.000Z</td>\n",
       "      <td>Mellera_Derg Gurl!</td>\n",
       "      <td>DragonMellera</td>\n",
       "      <td>0</td>\n",
       "      <td>0</td>\n",
       "      <td>0</td>\n",
       "    </tr>\n",
       "    <tr>\n",
       "      <th>8</th>\n",
       "      <td>1361763565196111876</td>\n",
       "      <td>{'hashtags': [{'start': 139, 'end': 155, 'tag'...</td>\n",
       "      <td>1450657369097129986</td>\n",
       "      <td>Day 19: Loop\\nA pen and ink octopus! 🐙 Need I ...</td>\n",
       "      <td>2021-10-20T02:57:23.000Z</td>\n",
       "      <td>Sarah Morrison</td>\n",
       "      <td>smorrisonartist</td>\n",
       "      <td>0</td>\n",
       "      <td>0</td>\n",
       "      <td>0</td>\n",
       "    </tr>\n",
       "    <tr>\n",
       "      <th>9</th>\n",
       "      <td>59698667</td>\n",
       "      <td>{'hashtags': [{'start': 67, 'end': 78, 'tag': ...</td>\n",
       "      <td>1450657363011280902</td>\n",
       "      <td>RT @Cubebrush: Depth sketching with Mental Can...</td>\n",
       "      <td>2021-10-20T02:57:21.000Z</td>\n",
       "      <td>Sasha Valentine</td>\n",
       "      <td>Sasha_AT</td>\n",
       "      <td>0</td>\n",
       "      <td>931</td>\n",
       "      <td>0</td>\n",
       "    </tr>\n",
       "  </tbody>\n",
       "</table>\n",
       "</div>"
      ],
      "text/plain": [
       "             author_id                                           entities  \\\n",
       "0  1439500749239504897  {'hashtags': [{'start': 153, 'end': 157, 'tag'...   \n",
       "1  1257491531491139587  {'hashtags': [{'start': 67, 'end': 78, 'tag': ...   \n",
       "2  1002180392361906177  {'hashtags': [{'start': 37, 'end': 48, 'tag': ...   \n",
       "3  1011160246973292544  {'hashtags': [{'start': 124, 'end': 134, 'tag'...   \n",
       "4  1108083423049105409  {'hashtags': [{'start': 32, 'end': 43, 'tag': ...   \n",
       "5           1713751680  {'hashtags': [{'start': 15, 'end': 24, 'tag': ...   \n",
       "6  1246921421315547146  {'hashtags': [{'start': 39, 'end': 49, 'tag': ...   \n",
       "7            578634352  {'hashtags': [{'start': 40, 'end': 53, 'tag': ...   \n",
       "8  1361763565196111876  {'hashtags': [{'start': 139, 'end': 155, 'tag'...   \n",
       "9             59698667  {'hashtags': [{'start': 67, 'end': 78, 'tag': ...   \n",
       "\n",
       "                    id                                               text  \\\n",
       "0  1450657432359694340  Hello everyone!\\n\\nOur white list is now open,...   \n",
       "1  1450657426181660672  RT @Cubebrush: Depth sketching with Mental Can...   \n",
       "2  1450657415347777539  RT @SifaSeven: The first four in the #mooglejo...   \n",
       "3  1450657408292843520  RT @KyuYongEom: Hahaha. I design clothes of va...   \n",
       "4  1450657403331096576  RT @mcflarey: alright listen.. \\n#digitalart #...   \n",
       "5  1450657398901952520  RT @Asmerrith: #Inktober for this one I drew @...   \n",
       "6  1450657388793671680  RT @scrapchallenge1: I fixed his eyes. #GoodOm...   \n",
       "7  1450657373857615876  Day 19: Loop\\nEh not the greatest pic...\\n#ink...   \n",
       "8  1450657369097129986  Day 19: Loop\\nA pen and ink octopus! 🐙 Need I ...   \n",
       "9  1450657363011280902  RT @Cubebrush: Depth sketching with Mental Can...   \n",
       "\n",
       "                 created_at                name         username  likes  \\\n",
       "0  2021-10-20T02:57:38.000Z   fiveliondanceclub      fivelionsdc      0   \n",
       "1  2021-10-20T02:57:36.000Z       Mr. Pineapple   MrPineapple7u7      0   \n",
       "2  2021-10-20T02:57:34.000Z           SifaSeven        SifaSeven      0   \n",
       "3  2021-10-20T02:57:32.000Z             Hepkept      ArnoldKang7      0   \n",
       "4  2021-10-20T02:57:31.000Z      🔞 BlackBerry~♪        berry_blk      0   \n",
       "5  2021-10-20T02:57:30.000Z              RYAN 🎃  RatherMalicious      0   \n",
       "6  2021-10-20T02:57:28.000Z          Manda Lynn    MandaLynn5304      0   \n",
       "7  2021-10-20T02:57:24.000Z  Mellera_Derg Gurl!    DragonMellera      0   \n",
       "8  2021-10-20T02:57:23.000Z      Sarah Morrison  smorrisonartist      0   \n",
       "9  2021-10-20T02:57:21.000Z     Sasha Valentine         Sasha_AT      0   \n",
       "\n",
       "   retweets  replys  \n",
       "0         0       0  \n",
       "1       931       0  \n",
       "2         3       0  \n",
       "3        33       0  \n",
       "4       111       0  \n",
       "5         5       0  \n",
       "6        41       0  \n",
       "7         0       0  \n",
       "8         0       0  \n",
       "9       931       0  "
      ]
     },
     "execution_count": 37,
     "metadata": {},
     "output_type": "execute_result"
    }
   ],
   "source": [
    "tweets.head(10)"
   ]
  },
  {
   "cell_type": "code",
   "execution_count": 38,
   "id": "7bee3b40",
   "metadata": {},
   "outputs": [
    {
     "data": {
      "text/html": [
       "<div>\n",
       "<style scoped>\n",
       "    .dataframe tbody tr th:only-of-type {\n",
       "        vertical-align: middle;\n",
       "    }\n",
       "\n",
       "    .dataframe tbody tr th {\n",
       "        vertical-align: top;\n",
       "    }\n",
       "\n",
       "    .dataframe thead th {\n",
       "        text-align: right;\n",
       "    }\n",
       "</style>\n",
       "<table border=\"1\" class=\"dataframe\">\n",
       "  <thead>\n",
       "    <tr style=\"text-align: right;\">\n",
       "      <th></th>\n",
       "      <th>author_id</th>\n",
       "      <th>entities</th>\n",
       "      <th>id</th>\n",
       "      <th>text</th>\n",
       "      <th>created_at</th>\n",
       "      <th>name</th>\n",
       "      <th>username</th>\n",
       "      <th>likes</th>\n",
       "      <th>retweets</th>\n",
       "      <th>replys</th>\n",
       "    </tr>\n",
       "  </thead>\n",
       "  <tbody>\n",
       "    <tr>\n",
       "      <th>90</th>\n",
       "      <td>1413896013388161030</td>\n",
       "      <td>{'annotations': [{'start': 25, 'end': 29, 'pro...</td>\n",
       "      <td>1450654431515750400</td>\n",
       "      <td>RT @Bikini_Boody: I feel Hilda’s desire to not...</td>\n",
       "      <td>2021-10-20T02:45:42.000Z</td>\n",
       "      <td>がじら</td>\n",
       "      <td>gajira1341</td>\n",
       "      <td>0</td>\n",
       "      <td>2337</td>\n",
       "      <td>0</td>\n",
       "    </tr>\n",
       "    <tr>\n",
       "      <th>91</th>\n",
       "      <td>1368944485262974977</td>\n",
       "      <td>{'hashtags': [{'start': 32, 'end': 37, 'tag': ...</td>\n",
       "      <td>1450654421994524673</td>\n",
       "      <td>RT @Rodrigo75532403: A new draw #cute #digital...</td>\n",
       "      <td>2021-10-20T02:45:40.000Z</td>\n",
       "      <td>Naoi</td>\n",
       "      <td>Naoi_O</td>\n",
       "      <td>0</td>\n",
       "      <td>1</td>\n",
       "      <td>0</td>\n",
       "    </tr>\n",
       "    <tr>\n",
       "      <th>92</th>\n",
       "      <td>819889946</td>\n",
       "      <td>{'hashtags': [{'start': 46, 'end': 54, 'tag': ...</td>\n",
       "      <td>1450654414809796616</td>\n",
       "      <td>RT @noize_exe: Noizetober Pokedraws:\\nMilotic\\...</td>\n",
       "      <td>2021-10-20T02:45:39.000Z</td>\n",
       "      <td>Bettle Jam</td>\n",
       "      <td>BettleJam</td>\n",
       "      <td>0</td>\n",
       "      <td>4</td>\n",
       "      <td>0</td>\n",
       "    </tr>\n",
       "    <tr>\n",
       "      <th>93</th>\n",
       "      <td>1157768153755246594</td>\n",
       "      <td>{'mentions': [{'start': 3, 'end': 17, 'usernam...</td>\n",
       "      <td>1450654414767788035</td>\n",
       "      <td>RT @ShiftyCatProd: Always watching\\n\\n-\\n\\nWhe...</td>\n",
       "      <td>2021-10-20T02:45:38.000Z</td>\n",
       "      <td>I Want To Commit Link Start</td>\n",
       "      <td>InactiveSpades</td>\n",
       "      <td>0</td>\n",
       "      <td>1</td>\n",
       "      <td>0</td>\n",
       "    </tr>\n",
       "    <tr>\n",
       "      <th>94</th>\n",
       "      <td>881630110046093312</td>\n",
       "      <td>{'annotations': [{'start': 32, 'end': 35, 'pro...</td>\n",
       "      <td>1450654412041510917</td>\n",
       "      <td>RT @JestaCrow: Inktober Day: 19 Yuri, Yuzuru, ...</td>\n",
       "      <td>2021-10-20T02:45:38.000Z</td>\n",
       "      <td>RandomDoodler</td>\n",
       "      <td>ARandomDoodler</td>\n",
       "      <td>0</td>\n",
       "      <td>1</td>\n",
       "      <td>0</td>\n",
       "    </tr>\n",
       "    <tr>\n",
       "      <th>95</th>\n",
       "      <td>109879816</td>\n",
       "      <td>{'annotations': [{'start': 36, 'end': 48, 'pro...</td>\n",
       "      <td>1450654391137026050</td>\n",
       "      <td>RT @Cubebrush: Depth sketching with Mental Can...</td>\n",
       "      <td>2021-10-20T02:45:33.000Z</td>\n",
       "      <td>NaN</td>\n",
       "      <td>NaN</td>\n",
       "      <td>0</td>\n",
       "      <td>931</td>\n",
       "      <td>0</td>\n",
       "    </tr>\n",
       "    <tr>\n",
       "      <th>96</th>\n",
       "      <td>867763419847458816</td>\n",
       "      <td>{'hashtags': [{'start': 63, 'end': 72, 'tag': ...</td>\n",
       "      <td>1450654383356719104</td>\n",
       "      <td>RT @Rafchu: Street Fighter rival schoolgirls K...</td>\n",
       "      <td>2021-10-20T02:45:31.000Z</td>\n",
       "      <td>NaN</td>\n",
       "      <td>NaN</td>\n",
       "      <td>0</td>\n",
       "      <td>482</td>\n",
       "      <td>0</td>\n",
       "    </tr>\n",
       "    <tr>\n",
       "      <th>97</th>\n",
       "      <td>1131363440721846277</td>\n",
       "      <td>{'hashtags': [{'start': 23, 'end': 27, 'tag': ...</td>\n",
       "      <td>1450654382874365956</td>\n",
       "      <td>Late night sketch! ❤🐸\\n\\n#ink #inktober #inkto...</td>\n",
       "      <td>2021-10-20T02:45:31.000Z</td>\n",
       "      <td>NaN</td>\n",
       "      <td>NaN</td>\n",
       "      <td>0</td>\n",
       "      <td>0</td>\n",
       "      <td>0</td>\n",
       "    </tr>\n",
       "    <tr>\n",
       "      <th>98</th>\n",
       "      <td>832797067814662144</td>\n",
       "      <td>{'annotations': [{'start': 25, 'end': 29, 'pro...</td>\n",
       "      <td>1450654380622065665</td>\n",
       "      <td>RT @Bikini_Boody: I feel Hilda’s desire to not...</td>\n",
       "      <td>2021-10-20T02:45:30.000Z</td>\n",
       "      <td>NaN</td>\n",
       "      <td>NaN</td>\n",
       "      <td>0</td>\n",
       "      <td>2337</td>\n",
       "      <td>0</td>\n",
       "    </tr>\n",
       "    <tr>\n",
       "      <th>99</th>\n",
       "      <td>1420789229181972483</td>\n",
       "      <td>{'hashtags': [{'start': 23, 'end': 32, 'tag': ...</td>\n",
       "      <td>1450654363186311176</td>\n",
       "      <td>She’s got the zoomies\\n\\n#inktober #inktober20...</td>\n",
       "      <td>2021-10-20T02:45:26.000Z</td>\n",
       "      <td>NaN</td>\n",
       "      <td>NaN</td>\n",
       "      <td>0</td>\n",
       "      <td>1</td>\n",
       "      <td>0</td>\n",
       "    </tr>\n",
       "  </tbody>\n",
       "</table>\n",
       "</div>"
      ],
      "text/plain": [
       "              author_id                                           entities  \\\n",
       "90  1413896013388161030  {'annotations': [{'start': 25, 'end': 29, 'pro...   \n",
       "91  1368944485262974977  {'hashtags': [{'start': 32, 'end': 37, 'tag': ...   \n",
       "92            819889946  {'hashtags': [{'start': 46, 'end': 54, 'tag': ...   \n",
       "93  1157768153755246594  {'mentions': [{'start': 3, 'end': 17, 'usernam...   \n",
       "94   881630110046093312  {'annotations': [{'start': 32, 'end': 35, 'pro...   \n",
       "95            109879816  {'annotations': [{'start': 36, 'end': 48, 'pro...   \n",
       "96   867763419847458816  {'hashtags': [{'start': 63, 'end': 72, 'tag': ...   \n",
       "97  1131363440721846277  {'hashtags': [{'start': 23, 'end': 27, 'tag': ...   \n",
       "98   832797067814662144  {'annotations': [{'start': 25, 'end': 29, 'pro...   \n",
       "99  1420789229181972483  {'hashtags': [{'start': 23, 'end': 32, 'tag': ...   \n",
       "\n",
       "                     id                                               text  \\\n",
       "90  1450654431515750400  RT @Bikini_Boody: I feel Hilda’s desire to not...   \n",
       "91  1450654421994524673  RT @Rodrigo75532403: A new draw #cute #digital...   \n",
       "92  1450654414809796616  RT @noize_exe: Noizetober Pokedraws:\\nMilotic\\...   \n",
       "93  1450654414767788035  RT @ShiftyCatProd: Always watching\\n\\n-\\n\\nWhe...   \n",
       "94  1450654412041510917  RT @JestaCrow: Inktober Day: 19 Yuri, Yuzuru, ...   \n",
       "95  1450654391137026050  RT @Cubebrush: Depth sketching with Mental Can...   \n",
       "96  1450654383356719104  RT @Rafchu: Street Fighter rival schoolgirls K...   \n",
       "97  1450654382874365956  Late night sketch! ❤🐸\\n\\n#ink #inktober #inkto...   \n",
       "98  1450654380622065665  RT @Bikini_Boody: I feel Hilda’s desire to not...   \n",
       "99  1450654363186311176  She’s got the zoomies\\n\\n#inktober #inktober20...   \n",
       "\n",
       "                  created_at                         name        username  \\\n",
       "90  2021-10-20T02:45:42.000Z                          がじら      gajira1341   \n",
       "91  2021-10-20T02:45:40.000Z                         Naoi          Naoi_O   \n",
       "92  2021-10-20T02:45:39.000Z                   Bettle Jam       BettleJam   \n",
       "93  2021-10-20T02:45:38.000Z  I Want To Commit Link Start  InactiveSpades   \n",
       "94  2021-10-20T02:45:38.000Z                RandomDoodler  ARandomDoodler   \n",
       "95  2021-10-20T02:45:33.000Z                          NaN             NaN   \n",
       "96  2021-10-20T02:45:31.000Z                          NaN             NaN   \n",
       "97  2021-10-20T02:45:31.000Z                          NaN             NaN   \n",
       "98  2021-10-20T02:45:30.000Z                          NaN             NaN   \n",
       "99  2021-10-20T02:45:26.000Z                          NaN             NaN   \n",
       "\n",
       "    likes  retweets  replys  \n",
       "90      0      2337       0  \n",
       "91      0         1       0  \n",
       "92      0         4       0  \n",
       "93      0         1       0  \n",
       "94      0         1       0  \n",
       "95      0       931       0  \n",
       "96      0       482       0  \n",
       "97      0         0       0  \n",
       "98      0      2337       0  \n",
       "99      0         1       0  "
      ]
     },
     "execution_count": 38,
     "metadata": {},
     "output_type": "execute_result"
    }
   ],
   "source": [
    "tweets.tail(10)"
   ]
  },
  {
   "cell_type": "markdown",
   "id": "d4ffc40b",
   "metadata": {},
   "source": [
    "11. I was satisfied with this data so I __exported__ my full data frame as a csv using the __to_csv__ function in python. \n",
    "\n",
    "I saved my data into the same folder as my jupyternotebook so that I may refer to it later when answering hypothesis."
   ]
  },
  {
   "cell_type": "code",
   "execution_count": 39,
   "id": "c33d54b8",
   "metadata": {},
   "outputs": [],
   "source": [
    "tweets.to_csv(r'C:\\Users\\glori\\Data in EMAT\\tweets.csv')"
   ]
  },
  {
   "cell_type": "markdown",
   "id": "ce4f32c3",
   "metadata": {},
   "source": [
    "## Potential weaknesses:\n",
    "- This is only 400 tweets, in the grand scheme of things that is not much data. However it is enouph to give me some evidence to answer the questions I have. There are some issues with the data where it stands right now. For example, from _entities_ I only want _hashtag_ so I need to find a way to isolate that aspect and change the header to read __hashtags__. However the issue is that 'entities' is set as a string not a list, and I dont have the knowledge yet to parse it into a list. \n",
    "\n",
    "- It should also be noted that the like_count appears to be 0 for all the columns. This is most likely inacurate. For example a tweet with over 2000 retweets, such as the one on line 98, would most likely NOT hav 0 likes.\n",
    "\n",
    "- there is a lot of duplicate code. It would be beneficial  to create a function that created each of the individual data frames so that I could simply add in a couple variables and cut down on the lines of code.\n",
    "\n",
    "## Next Steps\n",
    "\n",
    "In order to have the best results for my hypothesis I would need to:\n",
    "1. Retrieve the 'tag' value from the _entities_ column\n",
    "2. find a way to retrieve accurate \"like\" counts\n",
    "3. Understand why some of the values are listed as NaN\n",
    "4. create a function to combine and create the different \"pages\" of data."
   ]
  }
 ],
 "metadata": {
  "kernelspec": {
   "display_name": "Python 3 (ipykernel)",
   "language": "python",
   "name": "python3"
  },
  "language_info": {
   "codemirror_mode": {
    "name": "ipython",
    "version": 3
   },
   "file_extension": ".py",
   "mimetype": "text/x-python",
   "name": "python",
   "nbconvert_exporter": "python",
   "pygments_lexer": "ipython3",
   "version": "3.9.6"
  }
 },
 "nbformat": 4,
 "nbformat_minor": 5
}
